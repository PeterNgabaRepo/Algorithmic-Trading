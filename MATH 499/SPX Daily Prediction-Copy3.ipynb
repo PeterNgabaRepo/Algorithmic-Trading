{
 "cells": [
  {
   "cell_type": "markdown",
   "metadata": {},
   "source": [
    "# CMSC478 Machine Learning - Spring 2022 \n",
    "\n",
    "# Instructor: Fereydoon Vafaei\n",
    "\n",
    "### <font color=\"blue\">Assignment-2: Regression - Stock Market Prediction</font>"
   ]
  },
  {
   "cell_type": "markdown",
   "metadata": {},
   "source": [
    "Peter Ngaba\n",
    "JG77657"
   ]
  },
  {
   "cell_type": "markdown",
   "metadata": {},
   "source": [
    "## Overview and Learning Objectives"
   ]
  },
  {
   "cell_type": "markdown",
   "metadata": {},
   "source": [
    "In your second assignment, you are going to implement and train regression models. As mentioned in the lectures, regression models can predict a numeric value.\n",
    "\n",
    "The ML task in this assignment is regression, predicting the `Close` price of **Intel stock index** [**INTC**](https://www.google.com/finance/quote/INTC:NASDAQ).\n",
    "\n",
    "<b>Course Policy Reminder</b>\n",
    "Debugging the codes and error resolution are ALWAYS the students' responsbility regardless of the source or the cause of the error. This policy will be enforced in email communications and the office hours. Keep in mind that all assignments are individual graded tasks. Any collaboration with other students is strictly prohibited and is considered as cheating. Students should NOT share any answer, solution, or code with other students. Violations of these policies would be penalized according to UMBC academic integrity policy.\n",
    "\n",
    "<b>Very Important Note:</b>\n",
    "**You must run ALL cells** and get the correct outputs for all cells and give complete answers to all questions. **Cells/codes with no output get zero!** If you don't run some cells in a part, the whole part gets zero even if you write some codes in them."
   ]
  },
  {
   "cell_type": "markdown",
   "metadata": {},
   "source": [
    "Pedagogically, this assignment will help you:\n",
    "- better understand regression. \n",
    "- practice regression performance metrics.\n",
    "- practice with matplotlib and learn how to generate different plots.\n",
    "- gain experience with financial technical analysis and stock market prediction."
   ]
  },
  {
   "cell_type": "markdown",
   "metadata": {},
   "source": [
    "Wherever needed, you should replace `...` elipsis with your code.\n",
    "\n",
    "`...` may indicate one or more lines of missing codes. Some outputs are provided to you to use as reference and to verify that your output is correct. Other outputs are NOT provided intentionally."
   ]
  },
  {
   "cell_type": "markdown",
   "metadata": {},
   "source": [
    "## Import Cell"
   ]
  },
  {
   "cell_type": "markdown",
   "metadata": {},
   "source": [
    "The first thing to do is importing all necessary python and sklearn modules. **You definitely need to add to the following imports as you work on the assignment.** When you import a new module, add it here in the same cell. All imports should be in this cell."
   ]
  },
  {
   "cell_type": "code",
   "execution_count": 24,
   "metadata": {},
   "outputs": [],
   "source": [
    "# Import all necessary modules\n",
    "import seaborn as seaborn\n",
    "import matplotlib.pyplot as plt\n",
    "import datetime as dt\n",
    "from sklearn.model_selection import train_test_split\n",
    "import numpy as np\n",
    "from sklearn.metrics import mean_squared_error, mean_absolute_error, r2_score, accuracy_score\n",
    "from sklearn.linear_model import LinearRegression\n",
    "from sklearn.svm import SVR\n",
    "from xgboost import XGBRegressor\n",
    "from sklearn.model_selection import RandomizedSearchCV\n",
    "from cryptocmd import CmcScraper\n",
    "\n"
   ]
  },
  {
   "cell_type": "markdown",
   "metadata": {},
   "source": [
    "## Installing pandas-datareader"
   ]
  },
  {
   "cell_type": "markdown",
   "metadata": {},
   "source": [
    "You should install [pandas-datareader](https://pandas-datareader.readthedocs.io/en/latest/). In Linux, it's as easy as running the following pip command in your notebook. In other OS platforms, you may need to install it via Anaconda command prompt. **You are responsible for proper installation and resolving any issues that may arise during the installation process**."
   ]
  },
  {
   "cell_type": "code",
   "execution_count": 23,
   "metadata": {},
   "outputs": [
    {
     "name": "stdout",
     "output_type": "stream",
     "text": [
      "Requirement already satisfied: seaborn in /Users/peterngaba/opt/anaconda3/lib/python3.9/site-packages (0.11.2)\n",
      "Requirement already satisfied: scipy>=1.0 in /Users/peterngaba/opt/anaconda3/lib/python3.9/site-packages (from seaborn) (1.7.1)\n",
      "Requirement already satisfied: matplotlib>=2.2 in /Users/peterngaba/opt/anaconda3/lib/python3.9/site-packages (from seaborn) (3.4.3)\n",
      "Requirement already satisfied: pandas>=0.23 in /Users/peterngaba/opt/anaconda3/lib/python3.9/site-packages (from seaborn) (1.3.4)\n",
      "Requirement already satisfied: numpy>=1.15 in /Users/peterngaba/opt/anaconda3/lib/python3.9/site-packages (from seaborn) (1.20.3)\n",
      "Requirement already satisfied: python-dateutil>=2.7 in /Users/peterngaba/opt/anaconda3/lib/python3.9/site-packages (from matplotlib>=2.2->seaborn) (2.8.2)\n",
      "Requirement already satisfied: cycler>=0.10 in /Users/peterngaba/opt/anaconda3/lib/python3.9/site-packages (from matplotlib>=2.2->seaborn) (0.10.0)\n",
      "Requirement already satisfied: pyparsing>=2.2.1 in /Users/peterngaba/opt/anaconda3/lib/python3.9/site-packages (from matplotlib>=2.2->seaborn) (3.0.4)\n",
      "Requirement already satisfied: pillow>=6.2.0 in /Users/peterngaba/opt/anaconda3/lib/python3.9/site-packages (from matplotlib>=2.2->seaborn) (8.4.0)\n",
      "Requirement already satisfied: kiwisolver>=1.0.1 in /Users/peterngaba/opt/anaconda3/lib/python3.9/site-packages (from matplotlib>=2.2->seaborn) (1.3.1)\n",
      "Requirement already satisfied: six in /Users/peterngaba/opt/anaconda3/lib/python3.9/site-packages (from cycler>=0.10->matplotlib>=2.2->seaborn) (1.16.0)\n",
      "Requirement already satisfied: pytz>=2017.3 in /Users/peterngaba/opt/anaconda3/lib/python3.9/site-packages (from pandas>=0.23->seaborn) (2021.3)\n",
      "Collecting cryptocmd\n",
      "  Downloading cryptocmd-0.6.1-py3-none-any.whl (8.5 kB)\n",
      "Requirement already satisfied: requests in /Users/peterngaba/opt/anaconda3/lib/python3.9/site-packages (from cryptocmd) (2.26.0)\n",
      "Collecting tablib\n",
      "  Downloading tablib-3.2.0-py3-none-any.whl (48 kB)\n",
      "\u001b[K     |████████████████████████████████| 48 kB 2.4 MB/s eta 0:00:01\n",
      "\u001b[?25hRequirement already satisfied: charset-normalizer~=2.0.0 in /Users/peterngaba/opt/anaconda3/lib/python3.9/site-packages (from requests->cryptocmd) (2.0.4)\n",
      "Requirement already satisfied: certifi>=2017.4.17 in /Users/peterngaba/opt/anaconda3/lib/python3.9/site-packages (from requests->cryptocmd) (2021.10.8)\n",
      "Requirement already satisfied: urllib3<1.27,>=1.21.1 in /Users/peterngaba/opt/anaconda3/lib/python3.9/site-packages (from requests->cryptocmd) (1.26.7)\n",
      "Requirement already satisfied: idna<4,>=2.5 in /Users/peterngaba/opt/anaconda3/lib/python3.9/site-packages (from requests->cryptocmd) (3.2)\n",
      "Installing collected packages: tablib, cryptocmd\n",
      "Successfully installed cryptocmd-0.6.1 tablib-3.2.0\n"
     ]
    }
   ],
   "source": [
    "#!pip install pandas-datareader\n",
    "!pip install seaborn\n",
    "!pip install cryptocmd\n"
   ]
  },
  {
   "cell_type": "code",
   "execution_count": 25,
   "metadata": {},
   "outputs": [],
   "source": [
    "import pandas_datareader.data as web"
   ]
  },
  {
   "cell_type": "markdown",
   "metadata": {},
   "source": [
    "## Part I - Preprocessing"
   ]
  },
  {
   "cell_type": "markdown",
   "metadata": {},
   "source": [
    "Now you can read the data live from the [web](https://pandas-datareader.readthedocs.io/en/latest/remote_data.html#stooq-index-data)."
   ]
  },
  {
   "cell_type": "code",
   "execution_count": 27,
   "metadata": {},
   "outputs": [
    {
     "data": {
      "text/html": [
       "<div>\n",
       "<style scoped>\n",
       "    .dataframe tbody tr th:only-of-type {\n",
       "        vertical-align: middle;\n",
       "    }\n",
       "\n",
       "    .dataframe tbody tr th {\n",
       "        vertical-align: top;\n",
       "    }\n",
       "\n",
       "    .dataframe thead th {\n",
       "        text-align: right;\n",
       "    }\n",
       "</style>\n",
       "<table border=\"1\" class=\"dataframe\">\n",
       "  <thead>\n",
       "    <tr style=\"text-align: right;\">\n",
       "      <th></th>\n",
       "      <th>Date</th>\n",
       "      <th>Open</th>\n",
       "      <th>High</th>\n",
       "      <th>Low</th>\n",
       "      <th>Close</th>\n",
       "      <th>Volume</th>\n",
       "      <th>Market Cap</th>\n",
       "    </tr>\n",
       "  </thead>\n",
       "  <tbody>\n",
       "    <tr>\n",
       "      <th>0</th>\n",
       "      <td>2022-03-20</td>\n",
       "      <td>42191.405312</td>\n",
       "      <td>42241.164783</td>\n",
       "      <td>41004.759562</td>\n",
       "      <td>41247.823447</td>\n",
       "      <td>2.012795e+10</td>\n",
       "      <td>7.832606e+11</td>\n",
       "    </tr>\n",
       "    <tr>\n",
       "      <th>1</th>\n",
       "      <td>2022-03-19</td>\n",
       "      <td>41794.647834</td>\n",
       "      <td>42316.554460</td>\n",
       "      <td>41602.668380</td>\n",
       "      <td>42190.653462</td>\n",
       "      <td>1.966485e+10</td>\n",
       "      <td>8.011240e+11</td>\n",
       "    </tr>\n",
       "    <tr>\n",
       "      <th>2</th>\n",
       "      <td>2022-03-18</td>\n",
       "      <td>40944.841680</td>\n",
       "      <td>42195.744760</td>\n",
       "      <td>40302.398049</td>\n",
       "      <td>41801.154496</td>\n",
       "      <td>3.442156e+10</td>\n",
       "      <td>7.936882e+11</td>\n",
       "    </tr>\n",
       "    <tr>\n",
       "      <th>3</th>\n",
       "      <td>2022-03-17</td>\n",
       "      <td>41140.844816</td>\n",
       "      <td>41287.535204</td>\n",
       "      <td>40662.870601</td>\n",
       "      <td>40951.379876</td>\n",
       "      <td>2.200960e+10</td>\n",
       "      <td>7.775152e+11</td>\n",
       "    </tr>\n",
       "    <tr>\n",
       "      <th>4</th>\n",
       "      <td>2022-03-16</td>\n",
       "      <td>39335.569404</td>\n",
       "      <td>41465.451714</td>\n",
       "      <td>39022.347087</td>\n",
       "      <td>41143.928040</td>\n",
       "      <td>3.961692e+10</td>\n",
       "      <td>7.811316e+11</td>\n",
       "    </tr>\n",
       "    <tr>\n",
       "      <th>5</th>\n",
       "      <td>2022-03-15</td>\n",
       "      <td>39664.250026</td>\n",
       "      <td>39794.630264</td>\n",
       "      <td>38310.212580</td>\n",
       "      <td>39338.785492</td>\n",
       "      <td>2.393400e+10</td>\n",
       "      <td>7.468217e+11</td>\n",
       "    </tr>\n",
       "    <tr>\n",
       "      <th>6</th>\n",
       "      <td>2022-03-14</td>\n",
       "      <td>37846.316440</td>\n",
       "      <td>39742.500722</td>\n",
       "      <td>37680.734468</td>\n",
       "      <td>39666.755819</td>\n",
       "      <td>2.432216e+10</td>\n",
       "      <td>7.530139e+11</td>\n",
       "    </tr>\n",
       "    <tr>\n",
       "      <th>7</th>\n",
       "      <td>2022-03-13</td>\n",
       "      <td>38884.724849</td>\n",
       "      <td>39209.350427</td>\n",
       "      <td>37728.144356</td>\n",
       "      <td>37849.662800</td>\n",
       "      <td>1.730075e+10</td>\n",
       "      <td>7.184819e+11</td>\n",
       "    </tr>\n",
       "    <tr>\n",
       "      <th>8</th>\n",
       "      <td>2022-03-12</td>\n",
       "      <td>38794.463189</td>\n",
       "      <td>39308.599061</td>\n",
       "      <td>38772.535879</td>\n",
       "      <td>38904.013398</td>\n",
       "      <td>1.461645e+10</td>\n",
       "      <td>7.384599e+11</td>\n",
       "    </tr>\n",
       "    <tr>\n",
       "      <th>9</th>\n",
       "      <td>2022-03-11</td>\n",
       "      <td>39439.969532</td>\n",
       "      <td>40081.679254</td>\n",
       "      <td>38347.433162</td>\n",
       "      <td>38794.973137</td>\n",
       "      <td>2.636489e+10</td>\n",
       "      <td>7.363531e+11</td>\n",
       "    </tr>\n",
       "  </tbody>\n",
       "</table>\n",
       "</div>"
      ],
      "text/plain": [
       "        Date          Open          High           Low         Close  \\\n",
       "0 2022-03-20  42191.405312  42241.164783  41004.759562  41247.823447   \n",
       "1 2022-03-19  41794.647834  42316.554460  41602.668380  42190.653462   \n",
       "2 2022-03-18  40944.841680  42195.744760  40302.398049  41801.154496   \n",
       "3 2022-03-17  41140.844816  41287.535204  40662.870601  40951.379876   \n",
       "4 2022-03-16  39335.569404  41465.451714  39022.347087  41143.928040   \n",
       "5 2022-03-15  39664.250026  39794.630264  38310.212580  39338.785492   \n",
       "6 2022-03-14  37846.316440  39742.500722  37680.734468  39666.755819   \n",
       "7 2022-03-13  38884.724849  39209.350427  37728.144356  37849.662800   \n",
       "8 2022-03-12  38794.463189  39308.599061  38772.535879  38904.013398   \n",
       "9 2022-03-11  39439.969532  40081.679254  38347.433162  38794.973137   \n",
       "\n",
       "         Volume    Market Cap  \n",
       "0  2.012795e+10  7.832606e+11  \n",
       "1  1.966485e+10  8.011240e+11  \n",
       "2  3.442156e+10  7.936882e+11  \n",
       "3  2.200960e+10  7.775152e+11  \n",
       "4  3.961692e+10  7.811316e+11  \n",
       "5  2.393400e+10  7.468217e+11  \n",
       "6  2.432216e+10  7.530139e+11  \n",
       "7  1.730075e+10  7.184819e+11  \n",
       "8  1.461645e+10  7.384599e+11  \n",
       "9  2.636489e+10  7.363531e+11  "
      ]
     },
     "execution_count": 27,
     "metadata": {},
     "output_type": "execute_result"
    }
   ],
   "source": [
    "scraper = CmcScraper(\"BTC\")\n",
    "# Pandas dataFrame for the same data\n",
    "df = scraper.get_dataframe()\n",
    "\n",
    "df.head(10)"
   ]
  },
  {
   "cell_type": "markdown",
   "metadata": {},
   "source": [
    "> To make all submissions consistent, do NOT change the dates, source and stock index."
   ]
  },
  {
   "cell_type": "markdown",
   "metadata": {},
   "source": [
    "> The data is already very clean; however, you should always try to get some insights initially."
   ]
  },
  {
   "cell_type": "code",
   "execution_count": 28,
   "metadata": {},
   "outputs": [
    {
     "data": {
      "text/html": [
       "<div>\n",
       "<style scoped>\n",
       "    .dataframe tbody tr th:only-of-type {\n",
       "        vertical-align: middle;\n",
       "    }\n",
       "\n",
       "    .dataframe tbody tr th {\n",
       "        vertical-align: top;\n",
       "    }\n",
       "\n",
       "    .dataframe thead th {\n",
       "        text-align: right;\n",
       "    }\n",
       "</style>\n",
       "<table border=\"1\" class=\"dataframe\">\n",
       "  <thead>\n",
       "    <tr style=\"text-align: right;\">\n",
       "      <th></th>\n",
       "      <th>index</th>\n",
       "      <th>Open</th>\n",
       "      <th>High</th>\n",
       "      <th>Low</th>\n",
       "      <th>Close</th>\n",
       "      <th>Volume</th>\n",
       "      <th>Market Cap</th>\n",
       "    </tr>\n",
       "  </thead>\n",
       "  <tbody>\n",
       "    <tr>\n",
       "      <th>count</th>\n",
       "      <td>3249.000000</td>\n",
       "      <td>3249.000000</td>\n",
       "      <td>3249.000000</td>\n",
       "      <td>3249.000000</td>\n",
       "      <td>3249.000000</td>\n",
       "      <td>3.249000e+03</td>\n",
       "      <td>3.249000e+03</td>\n",
       "    </tr>\n",
       "    <tr>\n",
       "      <th>mean</th>\n",
       "      <td>1624.000000</td>\n",
       "      <td>9867.517154</td>\n",
       "      <td>10132.273193</td>\n",
       "      <td>9575.541604</td>\n",
       "      <td>9878.720054</td>\n",
       "      <td>1.251102e+10</td>\n",
       "      <td>1.811032e+11</td>\n",
       "    </tr>\n",
       "    <tr>\n",
       "      <th>std</th>\n",
       "      <td>938.049839</td>\n",
       "      <td>15502.213542</td>\n",
       "      <td>15916.401358</td>\n",
       "      <td>15027.521286</td>\n",
       "      <td>15507.290859</td>\n",
       "      <td>1.910517e+10</td>\n",
       "      <td>2.921988e+11</td>\n",
       "    </tr>\n",
       "    <tr>\n",
       "      <th>min</th>\n",
       "      <td>0.000000</td>\n",
       "      <td>68.504997</td>\n",
       "      <td>74.561096</td>\n",
       "      <td>65.526001</td>\n",
       "      <td>68.431000</td>\n",
       "      <td>0.000000e+00</td>\n",
       "      <td>7.784112e+08</td>\n",
       "    </tr>\n",
       "    <tr>\n",
       "      <th>25%</th>\n",
       "      <td>812.000000</td>\n",
       "      <td>448.484009</td>\n",
       "      <td>455.071991</td>\n",
       "      <td>443.100006</td>\n",
       "      <td>448.903015</td>\n",
       "      <td>3.719940e+07</td>\n",
       "      <td>6.500393e+09</td>\n",
       "    </tr>\n",
       "    <tr>\n",
       "      <th>50%</th>\n",
       "      <td>1624.000000</td>\n",
       "      <td>3695.613039</td>\n",
       "      <td>3862.960000</td>\n",
       "      <td>3642.632103</td>\n",
       "      <td>3696.059128</td>\n",
       "      <td>2.369820e+09</td>\n",
       "      <td>6.442259e+10</td>\n",
       "    </tr>\n",
       "    <tr>\n",
       "      <th>75%</th>\n",
       "      <td>2436.000000</td>\n",
       "      <td>9653.003325</td>\n",
       "      <td>9818.349609</td>\n",
       "      <td>9448.106748</td>\n",
       "      <td>9656.717765</td>\n",
       "      <td>2.113600e+10</td>\n",
       "      <td>1.743818e+11</td>\n",
       "    </tr>\n",
       "    <tr>\n",
       "      <th>max</th>\n",
       "      <td>3248.000000</td>\n",
       "      <td>67549.735581</td>\n",
       "      <td>68789.625939</td>\n",
       "      <td>66382.061008</td>\n",
       "      <td>67566.830088</td>\n",
       "      <td>3.509679e+11</td>\n",
       "      <td>1.274831e+12</td>\n",
       "    </tr>\n",
       "  </tbody>\n",
       "</table>\n",
       "</div>"
      ],
      "text/plain": [
       "             index          Open          High           Low         Close  \\\n",
       "count  3249.000000   3249.000000   3249.000000   3249.000000   3249.000000   \n",
       "mean   1624.000000   9867.517154  10132.273193   9575.541604   9878.720054   \n",
       "std     938.049839  15502.213542  15916.401358  15027.521286  15507.290859   \n",
       "min       0.000000     68.504997     74.561096     65.526001     68.431000   \n",
       "25%     812.000000    448.484009    455.071991    443.100006    448.903015   \n",
       "50%    1624.000000   3695.613039   3862.960000   3642.632103   3696.059128   \n",
       "75%    2436.000000   9653.003325   9818.349609   9448.106748   9656.717765   \n",
       "max    3248.000000  67549.735581  68789.625939  66382.061008  67566.830088   \n",
       "\n",
       "             Volume    Market Cap  \n",
       "count  3.249000e+03  3.249000e+03  \n",
       "mean   1.251102e+10  1.811032e+11  \n",
       "std    1.910517e+10  2.921988e+11  \n",
       "min    0.000000e+00  7.784112e+08  \n",
       "25%    3.719940e+07  6.500393e+09  \n",
       "50%    2.369820e+09  6.442259e+10  \n",
       "75%    2.113600e+10  1.743818e+11  \n",
       "max    3.509679e+11  1.274831e+12  "
      ]
     },
     "execution_count": 28,
     "metadata": {},
     "output_type": "execute_result"
    }
   ],
   "source": [
    "df.reset_index(inplace=True)\n",
    "df.describe()"
   ]
  },
  {
   "cell_type": "markdown",
   "metadata": {},
   "source": [
    "> One of the techniques to get more insights about the data before training the regression model is correlation analysis. Correlation analysis tells you which columns are correlated. Pandas dataframe has [`.corr()`](https://pandas.pydata.org/pandas-docs/stable/reference/api/pandas.DataFrame.corr.html) method to caclulate the correlations."
   ]
  },
  {
   "cell_type": "code",
   "execution_count": 29,
   "metadata": {},
   "outputs": [
    {
     "data": {
      "text/html": [
       "<div>\n",
       "<style scoped>\n",
       "    .dataframe tbody tr th:only-of-type {\n",
       "        vertical-align: middle;\n",
       "    }\n",
       "\n",
       "    .dataframe tbody tr th {\n",
       "        vertical-align: top;\n",
       "    }\n",
       "\n",
       "    .dataframe thead th {\n",
       "        text-align: right;\n",
       "    }\n",
       "</style>\n",
       "<table border=\"1\" class=\"dataframe\">\n",
       "  <thead>\n",
       "    <tr style=\"text-align: right;\">\n",
       "      <th></th>\n",
       "      <th>index</th>\n",
       "      <th>Open</th>\n",
       "      <th>High</th>\n",
       "      <th>Low</th>\n",
       "      <th>Close</th>\n",
       "      <th>Volume</th>\n",
       "      <th>Market Cap</th>\n",
       "    </tr>\n",
       "  </thead>\n",
       "  <tbody>\n",
       "    <tr>\n",
       "      <th>index</th>\n",
       "      <td>1.000000</td>\n",
       "      <td>-0.738819</td>\n",
       "      <td>-0.738425</td>\n",
       "      <td>-0.739901</td>\n",
       "      <td>-0.739183</td>\n",
       "      <td>-0.735629</td>\n",
       "      <td>-0.735800</td>\n",
       "    </tr>\n",
       "    <tr>\n",
       "      <th>Open</th>\n",
       "      <td>-0.738819</td>\n",
       "      <td>1.000000</td>\n",
       "      <td>0.999553</td>\n",
       "      <td>0.999174</td>\n",
       "      <td>0.998900</td>\n",
       "      <td>0.745234</td>\n",
       "      <td>0.998745</td>\n",
       "    </tr>\n",
       "    <tr>\n",
       "      <th>High</th>\n",
       "      <td>-0.738425</td>\n",
       "      <td>0.999553</td>\n",
       "      <td>1.000000</td>\n",
       "      <td>0.999112</td>\n",
       "      <td>0.999527</td>\n",
       "      <td>0.748664</td>\n",
       "      <td>0.999296</td>\n",
       "    </tr>\n",
       "    <tr>\n",
       "      <th>Low</th>\n",
       "      <td>-0.739901</td>\n",
       "      <td>0.999174</td>\n",
       "      <td>0.999112</td>\n",
       "      <td>1.000000</td>\n",
       "      <td>0.999428</td>\n",
       "      <td>0.738227</td>\n",
       "      <td>0.999348</td>\n",
       "    </tr>\n",
       "    <tr>\n",
       "      <th>Close</th>\n",
       "      <td>-0.739183</td>\n",
       "      <td>0.998900</td>\n",
       "      <td>0.999527</td>\n",
       "      <td>0.999428</td>\n",
       "      <td>1.000000</td>\n",
       "      <td>0.744396</td>\n",
       "      <td>0.999815</td>\n",
       "    </tr>\n",
       "    <tr>\n",
       "      <th>Volume</th>\n",
       "      <td>-0.735629</td>\n",
       "      <td>0.745234</td>\n",
       "      <td>0.748664</td>\n",
       "      <td>0.738227</td>\n",
       "      <td>0.744396</td>\n",
       "      <td>1.000000</td>\n",
       "      <td>0.742404</td>\n",
       "    </tr>\n",
       "    <tr>\n",
       "      <th>Market Cap</th>\n",
       "      <td>-0.735800</td>\n",
       "      <td>0.998745</td>\n",
       "      <td>0.999296</td>\n",
       "      <td>0.999348</td>\n",
       "      <td>0.999815</td>\n",
       "      <td>0.742404</td>\n",
       "      <td>1.000000</td>\n",
       "    </tr>\n",
       "  </tbody>\n",
       "</table>\n",
       "</div>"
      ],
      "text/plain": [
       "               index      Open      High       Low     Close    Volume  \\\n",
       "index       1.000000 -0.738819 -0.738425 -0.739901 -0.739183 -0.735629   \n",
       "Open       -0.738819  1.000000  0.999553  0.999174  0.998900  0.745234   \n",
       "High       -0.738425  0.999553  1.000000  0.999112  0.999527  0.748664   \n",
       "Low        -0.739901  0.999174  0.999112  1.000000  0.999428  0.738227   \n",
       "Close      -0.739183  0.998900  0.999527  0.999428  1.000000  0.744396   \n",
       "Volume     -0.735629  0.745234  0.748664  0.738227  0.744396  1.000000   \n",
       "Market Cap -0.735800  0.998745  0.999296  0.999348  0.999815  0.742404   \n",
       "\n",
       "            Market Cap  \n",
       "index        -0.735800  \n",
       "Open          0.998745  \n",
       "High          0.999296  \n",
       "Low           0.999348  \n",
       "Close         0.999815  \n",
       "Volume        0.742404  \n",
       "Market Cap    1.000000  "
      ]
     },
     "execution_count": 29,
     "metadata": {},
     "output_type": "execute_result"
    }
   ],
   "source": [
    "corr = df.corr(method='pearson')\n",
    "corr"
   ]
  },
  {
   "cell_type": "markdown",
   "metadata": {},
   "source": [
    "> You can also visualize the correlations using [seaborn](https://seaborn.pydata.org/installing.html) heatmaps. You should install it if you don't have it, and then you should import it."
   ]
  },
  {
   "cell_type": "code",
   "execution_count": 30,
   "metadata": {},
   "outputs": [
    {
     "data": {
      "text/plain": [
       "<AxesSubplot:>"
      ]
     },
     "execution_count": 30,
     "metadata": {},
     "output_type": "execute_result"
    },
    {
     "data": {
      "image/png": "[encoded data removed]",
      "text/plain": [
       "<Figure size 432x288 with 2 Axes>"
      ]
     },
     "metadata": {
      "needs_background": "light"
     },
     "output_type": "display_data"
    }
   ],
   "source": [
    "seaborn.heatmap(corr, xticklabels=corr.columns, yticklabels=corr.columns, cmap='RdBu_r', annot=True, linewidth=0.5)"
   ]
  },
  {
   "cell_type": "markdown",
   "metadata": {},
   "source": [
    "> Next, drop `Volume`."
   ]
  },
  {
   "cell_type": "code",
   "execution_count": 35,
   "metadata": {},
   "outputs": [
    {
     "data": {
      "text/html": [
       "<div>\n",
       "<style scoped>\n",
       "    .dataframe tbody tr th:only-of-type {\n",
       "        vertical-align: middle;\n",
       "    }\n",
       "\n",
       "    .dataframe tbody tr th {\n",
       "        vertical-align: top;\n",
       "    }\n",
       "\n",
       "    .dataframe thead th {\n",
       "        text-align: right;\n",
       "    }\n",
       "</style>\n",
       "<table border=\"1\" class=\"dataframe\">\n",
       "  <thead>\n",
       "    <tr style=\"text-align: right;\">\n",
       "      <th></th>\n",
       "      <th>index</th>\n",
       "      <th>Open</th>\n",
       "      <th>High</th>\n",
       "      <th>Low</th>\n",
       "      <th>Close</th>\n",
       "      <th>Volume</th>\n",
       "      <th>Market Cap</th>\n",
       "      <th>date</th>\n",
       "    </tr>\n",
       "  </thead>\n",
       "  <tbody>\n",
       "    <tr>\n",
       "      <th>0</th>\n",
       "      <td>0</td>\n",
       "      <td>42191.405312</td>\n",
       "      <td>42241.164783</td>\n",
       "      <td>41004.759562</td>\n",
       "      <td>41247.823447</td>\n",
       "      <td>2.012795e+10</td>\n",
       "      <td>7.832606e+11</td>\n",
       "      <td>0</td>\n",
       "    </tr>\n",
       "    <tr>\n",
       "      <th>1</th>\n",
       "      <td>1</td>\n",
       "      <td>41794.647834</td>\n",
       "      <td>42316.554460</td>\n",
       "      <td>41602.668380</td>\n",
       "      <td>42190.653462</td>\n",
       "      <td>1.966485e+10</td>\n",
       "      <td>8.011240e+11</td>\n",
       "      <td>1</td>\n",
       "    </tr>\n",
       "    <tr>\n",
       "      <th>2</th>\n",
       "      <td>2</td>\n",
       "      <td>40944.841680</td>\n",
       "      <td>42195.744760</td>\n",
       "      <td>40302.398049</td>\n",
       "      <td>41801.154496</td>\n",
       "      <td>3.442156e+10</td>\n",
       "      <td>7.936882e+11</td>\n",
       "      <td>2</td>\n",
       "    </tr>\n",
       "    <tr>\n",
       "      <th>3</th>\n",
       "      <td>3</td>\n",
       "      <td>41140.844816</td>\n",
       "      <td>41287.535204</td>\n",
       "      <td>40662.870601</td>\n",
       "      <td>40951.379876</td>\n",
       "      <td>2.200960e+10</td>\n",
       "      <td>7.775152e+11</td>\n",
       "      <td>3</td>\n",
       "    </tr>\n",
       "    <tr>\n",
       "      <th>4</th>\n",
       "      <td>4</td>\n",
       "      <td>39335.569404</td>\n",
       "      <td>41465.451714</td>\n",
       "      <td>39022.347087</td>\n",
       "      <td>41143.928040</td>\n",
       "      <td>3.961692e+10</td>\n",
       "      <td>7.811316e+11</td>\n",
       "      <td>4</td>\n",
       "    </tr>\n",
       "    <tr>\n",
       "      <th>5</th>\n",
       "      <td>5</td>\n",
       "      <td>39664.250026</td>\n",
       "      <td>39794.630264</td>\n",
       "      <td>38310.212580</td>\n",
       "      <td>39338.785492</td>\n",
       "      <td>2.393400e+10</td>\n",
       "      <td>7.468217e+11</td>\n",
       "      <td>5</td>\n",
       "    </tr>\n",
       "    <tr>\n",
       "      <th>6</th>\n",
       "      <td>6</td>\n",
       "      <td>37846.316440</td>\n",
       "      <td>39742.500722</td>\n",
       "      <td>37680.734468</td>\n",
       "      <td>39666.755819</td>\n",
       "      <td>2.432216e+10</td>\n",
       "      <td>7.530139e+11</td>\n",
       "      <td>6</td>\n",
       "    </tr>\n",
       "    <tr>\n",
       "      <th>7</th>\n",
       "      <td>7</td>\n",
       "      <td>38884.724849</td>\n",
       "      <td>39209.350427</td>\n",
       "      <td>37728.144356</td>\n",
       "      <td>37849.662800</td>\n",
       "      <td>1.730075e+10</td>\n",
       "      <td>7.184819e+11</td>\n",
       "      <td>7</td>\n",
       "    </tr>\n",
       "    <tr>\n",
       "      <th>8</th>\n",
       "      <td>8</td>\n",
       "      <td>38794.463189</td>\n",
       "      <td>39308.599061</td>\n",
       "      <td>38772.535879</td>\n",
       "      <td>38904.013398</td>\n",
       "      <td>1.461645e+10</td>\n",
       "      <td>7.384599e+11</td>\n",
       "      <td>8</td>\n",
       "    </tr>\n",
       "    <tr>\n",
       "      <th>9</th>\n",
       "      <td>9</td>\n",
       "      <td>39439.969532</td>\n",
       "      <td>40081.679254</td>\n",
       "      <td>38347.433162</td>\n",
       "      <td>38794.973137</td>\n",
       "      <td>2.636489e+10</td>\n",
       "      <td>7.363531e+11</td>\n",
       "      <td>9</td>\n",
       "    </tr>\n",
       "  </tbody>\n",
       "</table>\n",
       "</div>"
      ],
      "text/plain": [
       "   index          Open          High           Low         Close  \\\n",
       "0      0  42191.405312  42241.164783  41004.759562  41247.823447   \n",
       "1      1  41794.647834  42316.554460  41602.668380  42190.653462   \n",
       "2      2  40944.841680  42195.744760  40302.398049  41801.154496   \n",
       "3      3  41140.844816  41287.535204  40662.870601  40951.379876   \n",
       "4      4  39335.569404  41465.451714  39022.347087  41143.928040   \n",
       "5      5  39664.250026  39794.630264  38310.212580  39338.785492   \n",
       "6      6  37846.316440  39742.500722  37680.734468  39666.755819   \n",
       "7      7  38884.724849  39209.350427  37728.144356  37849.662800   \n",
       "8      8  38794.463189  39308.599061  38772.535879  38904.013398   \n",
       "9      9  39439.969532  40081.679254  38347.433162  38794.973137   \n",
       "\n",
       "         Volume    Market Cap  date  \n",
       "0  2.012795e+10  7.832606e+11     0  \n",
       "1  1.966485e+10  8.011240e+11     1  \n",
       "2  3.442156e+10  7.936882e+11     2  \n",
       "3  2.200960e+10  7.775152e+11     3  \n",
       "4  3.961692e+10  7.811316e+11     4  \n",
       "5  2.393400e+10  7.468217e+11     5  \n",
       "6  2.432216e+10  7.530139e+11     6  \n",
       "7  1.730075e+10  7.184819e+11     7  \n",
       "8  1.461645e+10  7.384599e+11     8  \n",
       "9  2.636489e+10  7.363531e+11     9  "
      ]
     },
     "execution_count": 35,
     "metadata": {},
     "output_type": "execute_result"
    }
   ],
   "source": [
    "# Drop Volume\n",
    "df = df.drop(columns = ['Date'])\n",
    "\n",
    "df.head(10)"
   ]
  },
  {
   "cell_type": "markdown",
   "metadata": {},
   "source": [
    "> Next, you should create the exact same plot as given below. EVERYTHING should look exactly the same as this plot. The specifications are as follows:\n",
    "> - `figsize` should be (16,8)\n",
    "> - `fontsize` for title should be 18 and for the axis labels should be 16.\n",
    "> - You should use a [`seaborn`](https://matplotlib.org/stable/gallery/style_sheets/style_sheets_reference.html) style with the grid displayed in the background and everything else should look the same. \n",
    "> - Your plot must have the same title and axis labels.\n",
    "> - You can see [matplotlib documentation](https://matplotlib.org/stable/api/_as_gen/matplotlib.pyplot.plot.html) to learn how to change specifications."
   ]
  },
  {
   "cell_type": "code",
   "execution_count": 36,
   "metadata": {},
   "outputs": [
    {
     "name": "stdout",
     "output_type": "stream",
     "text": [
      "Text(0, 0.5, 'SPX500 Close Price (USD)') \n"
     ]
    },
    {
     "ename": "KeyError",
     "evalue": "'Date'",
     "output_type": "error",
     "traceback": [
      "\u001b[0;31m---------------------------------------------------------------------------\u001b[0m",
      "\u001b[0;31mKeyError\u001b[0m                                  Traceback (most recent call last)",
      "\u001b[0;32m~/opt/anaconda3/lib/python3.9/site-packages/pandas/core/indexes/base.py\u001b[0m in \u001b[0;36mget_loc\u001b[0;34m(self, key, method, tolerance)\u001b[0m\n\u001b[1;32m   3360\u001b[0m             \u001b[0;32mtry\u001b[0m\u001b[0;34m:\u001b[0m\u001b[0;34m\u001b[0m\u001b[0;34m\u001b[0m\u001b[0m\n\u001b[0;32m-> 3361\u001b[0;31m                 \u001b[0;32mreturn\u001b[0m \u001b[0mself\u001b[0m\u001b[0;34m.\u001b[0m\u001b[0m_engine\u001b[0m\u001b[0;34m.\u001b[0m\u001b[0mget_loc\u001b[0m\u001b[0;34m(\u001b[0m\u001b[0mcasted_key\u001b[0m\u001b[0;34m)\u001b[0m\u001b[0;34m\u001b[0m\u001b[0;34m\u001b[0m\u001b[0m\n\u001b[0m\u001b[1;32m   3362\u001b[0m             \u001b[0;32mexcept\u001b[0m \u001b[0mKeyError\u001b[0m \u001b[0;32mas\u001b[0m \u001b[0merr\u001b[0m\u001b[0;34m:\u001b[0m\u001b[0;34m\u001b[0m\u001b[0;34m\u001b[0m\u001b[0m\n",
      "\u001b[0;32m~/opt/anaconda3/lib/python3.9/site-packages/pandas/_libs/index.pyx\u001b[0m in \u001b[0;36mpandas._libs.index.IndexEngine.get_loc\u001b[0;34m()\u001b[0m\n",
      "\u001b[0;32m~/opt/anaconda3/lib/python3.9/site-packages/pandas/_libs/index.pyx\u001b[0m in \u001b[0;36mpandas._libs.index.IndexEngine.get_loc\u001b[0;34m()\u001b[0m\n",
      "\u001b[0;32mpandas/_libs/hashtable_class_helper.pxi\u001b[0m in \u001b[0;36mpandas._libs.hashtable.PyObjectHashTable.get_item\u001b[0;34m()\u001b[0m\n",
      "\u001b[0;32mpandas/_libs/hashtable_class_helper.pxi\u001b[0m in \u001b[0;36mpandas._libs.hashtable.PyObjectHashTable.get_item\u001b[0;34m()\u001b[0m\n",
      "\u001b[0;31mKeyError\u001b[0m: 'Date'",
      "\nThe above exception was the direct cause of the following exception:\n",
      "\u001b[0;31mKeyError\u001b[0m                                  Traceback (most recent call last)",
      "\u001b[0;32m/var/folders/xz/_2c6nksj4pl_by8lq32cfty80000gn/T/ipykernel_61257/874403236.py\u001b[0m in \u001b[0;36m<module>\u001b[0;34m\u001b[0m\n\u001b[1;32m     11\u001b[0m \u001b[0mplt\u001b[0m\u001b[0;34m.\u001b[0m\u001b[0mylabel\u001b[0m\u001b[0;34m(\u001b[0m\u001b[0;34m\"SPX500 Close Price (USD)\"\u001b[0m\u001b[0;34m,\u001b[0m \u001b[0mfontsize\u001b[0m \u001b[0;34m=\u001b[0m \u001b[0;36m16\u001b[0m\u001b[0;34m)\u001b[0m\u001b[0;34m\u001b[0m\u001b[0;34m\u001b[0m\u001b[0m\n\u001b[1;32m     12\u001b[0m \u001b[0mprint\u001b[0m\u001b[0;34m(\u001b[0m\u001b[0;34m'Text(0, 0.5, \\'SPX500 Close Price (USD)\\') '\u001b[0m\u001b[0;34m)\u001b[0m\u001b[0;34m\u001b[0m\u001b[0;34m\u001b[0m\u001b[0m\n\u001b[0;32m---> 13\u001b[0;31m \u001b[0mplt\u001b[0m\u001b[0;34m.\u001b[0m\u001b[0mplot\u001b[0m\u001b[0;34m(\u001b[0m\u001b[0mdf\u001b[0m\u001b[0;34m[\u001b[0m\u001b[0;34m'Date'\u001b[0m\u001b[0;34m]\u001b[0m\u001b[0;34m,\u001b[0m \u001b[0mdf\u001b[0m\u001b[0;34m[\u001b[0m\u001b[0;34m'Close'\u001b[0m\u001b[0;34m]\u001b[0m\u001b[0;34m,\u001b[0m \u001b[0;34m\"green\"\u001b[0m\u001b[0;34m,\u001b[0m \u001b[0mlinewidth\u001b[0m \u001b[0;34m=\u001b[0m \u001b[0;34m\"2\"\u001b[0m\u001b[0;34m)\u001b[0m\u001b[0;34m\u001b[0m\u001b[0;34m\u001b[0m\u001b[0m\n\u001b[0m\u001b[1;32m     14\u001b[0m \u001b[0mplt\u001b[0m\u001b[0;34m.\u001b[0m\u001b[0mshow\u001b[0m\u001b[0;34m(\u001b[0m\u001b[0;34m)\u001b[0m\u001b[0;34m\u001b[0m\u001b[0;34m\u001b[0m\u001b[0m\n",
      "\u001b[0;32m~/opt/anaconda3/lib/python3.9/site-packages/pandas/core/frame.py\u001b[0m in \u001b[0;36m__getitem__\u001b[0;34m(self, key)\u001b[0m\n\u001b[1;32m   3456\u001b[0m             \u001b[0;32mif\u001b[0m \u001b[0mself\u001b[0m\u001b[0;34m.\u001b[0m\u001b[0mcolumns\u001b[0m\u001b[0;34m.\u001b[0m\u001b[0mnlevels\u001b[0m \u001b[0;34m>\u001b[0m \u001b[0;36m1\u001b[0m\u001b[0;34m:\u001b[0m\u001b[0;34m\u001b[0m\u001b[0;34m\u001b[0m\u001b[0m\n\u001b[1;32m   3457\u001b[0m                 \u001b[0;32mreturn\u001b[0m \u001b[0mself\u001b[0m\u001b[0;34m.\u001b[0m\u001b[0m_getitem_multilevel\u001b[0m\u001b[0;34m(\u001b[0m\u001b[0mkey\u001b[0m\u001b[0;34m)\u001b[0m\u001b[0;34m\u001b[0m\u001b[0;34m\u001b[0m\u001b[0m\n\u001b[0;32m-> 3458\u001b[0;31m             \u001b[0mindexer\u001b[0m \u001b[0;34m=\u001b[0m \u001b[0mself\u001b[0m\u001b[0;34m.\u001b[0m\u001b[0mcolumns\u001b[0m\u001b[0;34m.\u001b[0m\u001b[0mget_loc\u001b[0m\u001b[0;34m(\u001b[0m\u001b[0mkey\u001b[0m\u001b[0;34m)\u001b[0m\u001b[0;34m\u001b[0m\u001b[0;34m\u001b[0m\u001b[0m\n\u001b[0m\u001b[1;32m   3459\u001b[0m             \u001b[0;32mif\u001b[0m \u001b[0mis_integer\u001b[0m\u001b[0;34m(\u001b[0m\u001b[0mindexer\u001b[0m\u001b[0;34m)\u001b[0m\u001b[0;34m:\u001b[0m\u001b[0;34m\u001b[0m\u001b[0;34m\u001b[0m\u001b[0m\n\u001b[1;32m   3460\u001b[0m                 \u001b[0mindexer\u001b[0m \u001b[0;34m=\u001b[0m \u001b[0;34m[\u001b[0m\u001b[0mindexer\u001b[0m\u001b[0;34m]\u001b[0m\u001b[0;34m\u001b[0m\u001b[0;34m\u001b[0m\u001b[0m\n",
      "\u001b[0;32m~/opt/anaconda3/lib/python3.9/site-packages/pandas/core/indexes/base.py\u001b[0m in \u001b[0;36mget_loc\u001b[0;34m(self, key, method, tolerance)\u001b[0m\n\u001b[1;32m   3361\u001b[0m                 \u001b[0;32mreturn\u001b[0m \u001b[0mself\u001b[0m\u001b[0;34m.\u001b[0m\u001b[0m_engine\u001b[0m\u001b[0;34m.\u001b[0m\u001b[0mget_loc\u001b[0m\u001b[0;34m(\u001b[0m\u001b[0mcasted_key\u001b[0m\u001b[0;34m)\u001b[0m\u001b[0;34m\u001b[0m\u001b[0;34m\u001b[0m\u001b[0m\n\u001b[1;32m   3362\u001b[0m             \u001b[0;32mexcept\u001b[0m \u001b[0mKeyError\u001b[0m \u001b[0;32mas\u001b[0m \u001b[0merr\u001b[0m\u001b[0;34m:\u001b[0m\u001b[0;34m\u001b[0m\u001b[0;34m\u001b[0m\u001b[0m\n\u001b[0;32m-> 3363\u001b[0;31m                 \u001b[0;32mraise\u001b[0m \u001b[0mKeyError\u001b[0m\u001b[0;34m(\u001b[0m\u001b[0mkey\u001b[0m\u001b[0;34m)\u001b[0m \u001b[0;32mfrom\u001b[0m \u001b[0merr\u001b[0m\u001b[0;34m\u001b[0m\u001b[0;34m\u001b[0m\u001b[0m\n\u001b[0m\u001b[1;32m   3364\u001b[0m \u001b[0;34m\u001b[0m\u001b[0m\n\u001b[1;32m   3365\u001b[0m         \u001b[0;32mif\u001b[0m \u001b[0mis_scalar\u001b[0m\u001b[0;34m(\u001b[0m\u001b[0mkey\u001b[0m\u001b[0;34m)\u001b[0m \u001b[0;32mand\u001b[0m \u001b[0misna\u001b[0m\u001b[0;34m(\u001b[0m\u001b[0mkey\u001b[0m\u001b[0;34m)\u001b[0m \u001b[0;32mand\u001b[0m \u001b[0;32mnot\u001b[0m \u001b[0mself\u001b[0m\u001b[0;34m.\u001b[0m\u001b[0mhasnans\u001b[0m\u001b[0;34m:\u001b[0m\u001b[0;34m\u001b[0m\u001b[0;34m\u001b[0m\u001b[0m\n",
      "\u001b[0;31mKeyError\u001b[0m: 'Date'"
     ]
    },
    {
     "data": {
      "image/png": "[encoded data removed]",
      "text/plain": [
       "<Figure size 1152x576 with 1 Axes>"
      ]
     },
     "metadata": {},
     "output_type": "display_data"
    }
   ],
   "source": [
    "'''[10 points] Incomplete/incorrect plots get zero\n",
    "Generate the following plot. It should be EXACTLY the same!\n",
    "'''\n",
    "\n",
    "\n",
    "seaborn.set_theme()\n",
    "plt.figure(figsize = (16,8))\n",
    "\n",
    "plt.title(\"SPX500 Stock Close Price History 2000 - 2022\", fontsize = 18)\n",
    "plt.xlabel(\"Date\", fontsize = 16)\n",
    "plt.ylabel(\"SPX500 Close Price (USD)\", fontsize = 16)\n",
    "print('Text(0, 0.5, \\'SPX500 Close Price (USD)\\') ')\n",
    "plt.plot(df['Date'], df['Close'], \"green\", linewidth = \"2\")\n",
    "plt.show()"
   ]
  },
  {
   "cell_type": "markdown",
   "metadata": {},
   "source": [
    "> Next, you should decompose `Date` to `Year`, `Month`, and `Day`."
   ]
  },
  {
   "cell_type": "code",
   "execution_count": 34,
   "metadata": {},
   "outputs": [
    {
     "ename": "AttributeError",
     "evalue": "Can only use .dt accessor with datetimelike values",
     "output_type": "error",
     "traceback": [
      "\u001b[0;31m---------------------------------------------------------------------------\u001b[0m",
      "\u001b[0;31mAttributeError\u001b[0m                            Traceback (most recent call last)",
      "\u001b[0;32m/var/folders/xz/_2c6nksj4pl_by8lq32cfty80000gn/T/ipykernel_61257/522721238.py\u001b[0m in \u001b[0;36m<module>\u001b[0;34m\u001b[0m\n\u001b[0;32m----> 1\u001b[0;31m \u001b[0mdf\u001b[0m\u001b[0;34m[\u001b[0m\u001b[0;34m'Year'\u001b[0m\u001b[0;34m]\u001b[0m \u001b[0;34m=\u001b[0m \u001b[0mdf\u001b[0m\u001b[0;34m[\u001b[0m\u001b[0;34m'date'\u001b[0m\u001b[0;34m]\u001b[0m\u001b[0;34m.\u001b[0m\u001b[0mdt\u001b[0m\u001b[0;34m.\u001b[0m\u001b[0myear\u001b[0m\u001b[0;34m\u001b[0m\u001b[0;34m\u001b[0m\u001b[0m\n\u001b[0m\u001b[1;32m      2\u001b[0m \u001b[0mdf\u001b[0m\u001b[0;34m[\u001b[0m\u001b[0;34m'Month'\u001b[0m\u001b[0;34m]\u001b[0m \u001b[0;34m=\u001b[0m \u001b[0mdf\u001b[0m\u001b[0;34m[\u001b[0m\u001b[0;34m'date'\u001b[0m\u001b[0;34m]\u001b[0m\u001b[0;34m.\u001b[0m\u001b[0mdt\u001b[0m\u001b[0;34m.\u001b[0m\u001b[0mmonth\u001b[0m\u001b[0;34m\u001b[0m\u001b[0;34m\u001b[0m\u001b[0m\n\u001b[1;32m      3\u001b[0m \u001b[0mdf\u001b[0m\u001b[0;34m[\u001b[0m\u001b[0;34m'Day'\u001b[0m\u001b[0;34m]\u001b[0m \u001b[0;34m=\u001b[0m \u001b[0mdf\u001b[0m\u001b[0;34m[\u001b[0m\u001b[0;34m'date'\u001b[0m\u001b[0;34m]\u001b[0m\u001b[0;34m.\u001b[0m\u001b[0mdt\u001b[0m\u001b[0;34m.\u001b[0m\u001b[0mday\u001b[0m\u001b[0;34m\u001b[0m\u001b[0;34m\u001b[0m\u001b[0m\n",
      "\u001b[0;32m~/opt/anaconda3/lib/python3.9/site-packages/pandas/core/generic.py\u001b[0m in \u001b[0;36m__getattr__\u001b[0;34m(self, name)\u001b[0m\n\u001b[1;32m   5485\u001b[0m         ):\n\u001b[1;32m   5486\u001b[0m             \u001b[0;32mreturn\u001b[0m \u001b[0mself\u001b[0m\u001b[0;34m[\u001b[0m\u001b[0mname\u001b[0m\u001b[0;34m]\u001b[0m\u001b[0;34m\u001b[0m\u001b[0;34m\u001b[0m\u001b[0m\n\u001b[0;32m-> 5487\u001b[0;31m         \u001b[0;32mreturn\u001b[0m \u001b[0mobject\u001b[0m\u001b[0;34m.\u001b[0m\u001b[0m__getattribute__\u001b[0m\u001b[0;34m(\u001b[0m\u001b[0mself\u001b[0m\u001b[0;34m,\u001b[0m \u001b[0mname\u001b[0m\u001b[0;34m)\u001b[0m\u001b[0;34m\u001b[0m\u001b[0;34m\u001b[0m\u001b[0m\n\u001b[0m\u001b[1;32m   5488\u001b[0m \u001b[0;34m\u001b[0m\u001b[0m\n\u001b[1;32m   5489\u001b[0m     \u001b[0;32mdef\u001b[0m \u001b[0m__setattr__\u001b[0m\u001b[0;34m(\u001b[0m\u001b[0mself\u001b[0m\u001b[0;34m,\u001b[0m \u001b[0mname\u001b[0m\u001b[0;34m:\u001b[0m \u001b[0mstr\u001b[0m\u001b[0;34m,\u001b[0m \u001b[0mvalue\u001b[0m\u001b[0;34m)\u001b[0m \u001b[0;34m->\u001b[0m \u001b[0;32mNone\u001b[0m\u001b[0;34m:\u001b[0m\u001b[0;34m\u001b[0m\u001b[0;34m\u001b[0m\u001b[0m\n",
      "\u001b[0;32m~/opt/anaconda3/lib/python3.9/site-packages/pandas/core/accessor.py\u001b[0m in \u001b[0;36m__get__\u001b[0;34m(self, obj, cls)\u001b[0m\n\u001b[1;32m    179\u001b[0m             \u001b[0;31m# we're accessing the attribute of the class, i.e., Dataset.geo\u001b[0m\u001b[0;34m\u001b[0m\u001b[0;34m\u001b[0m\u001b[0m\n\u001b[1;32m    180\u001b[0m             \u001b[0;32mreturn\u001b[0m \u001b[0mself\u001b[0m\u001b[0;34m.\u001b[0m\u001b[0m_accessor\u001b[0m\u001b[0;34m\u001b[0m\u001b[0;34m\u001b[0m\u001b[0m\n\u001b[0;32m--> 181\u001b[0;31m         \u001b[0maccessor_obj\u001b[0m \u001b[0;34m=\u001b[0m \u001b[0mself\u001b[0m\u001b[0;34m.\u001b[0m\u001b[0m_accessor\u001b[0m\u001b[0;34m(\u001b[0m\u001b[0mobj\u001b[0m\u001b[0;34m)\u001b[0m\u001b[0;34m\u001b[0m\u001b[0;34m\u001b[0m\u001b[0m\n\u001b[0m\u001b[1;32m    182\u001b[0m         \u001b[0;31m# Replace the property with the accessor object. Inspired by:\u001b[0m\u001b[0;34m\u001b[0m\u001b[0;34m\u001b[0m\u001b[0m\n\u001b[1;32m    183\u001b[0m         \u001b[0;31m# https://www.pydanny.com/cached-property.html\u001b[0m\u001b[0;34m\u001b[0m\u001b[0;34m\u001b[0m\u001b[0m\n",
      "\u001b[0;32m~/opt/anaconda3/lib/python3.9/site-packages/pandas/core/indexes/accessors.py\u001b[0m in \u001b[0;36m__new__\u001b[0;34m(cls, data)\u001b[0m\n\u001b[1;32m    504\u001b[0m             \u001b[0;32mreturn\u001b[0m \u001b[0mPeriodProperties\u001b[0m\u001b[0;34m(\u001b[0m\u001b[0mdata\u001b[0m\u001b[0;34m,\u001b[0m \u001b[0morig\u001b[0m\u001b[0;34m)\u001b[0m\u001b[0;34m\u001b[0m\u001b[0;34m\u001b[0m\u001b[0m\n\u001b[1;32m    505\u001b[0m \u001b[0;34m\u001b[0m\u001b[0m\n\u001b[0;32m--> 506\u001b[0;31m         \u001b[0;32mraise\u001b[0m \u001b[0mAttributeError\u001b[0m\u001b[0;34m(\u001b[0m\u001b[0;34m\"Can only use .dt accessor with datetimelike values\"\u001b[0m\u001b[0;34m)\u001b[0m\u001b[0;34m\u001b[0m\u001b[0;34m\u001b[0m\u001b[0m\n\u001b[0m",
      "\u001b[0;31mAttributeError\u001b[0m: Can only use .dt accessor with datetimelike values"
     ]
    }
   ],
   "source": [
    "\n",
    "df['Year'] = df['date'].dt.year\n",
    "df['Month'] = df['date'].dt.month\n",
    "df['Day'] = df['date'].dt.day\n"
   ]
  },
  {
   "cell_type": "markdown",
   "metadata": {},
   "source": [
    "> Now choose the following columns from `df` in the same order as below:"
   ]
  },
  {
   "cell_type": "code",
   "execution_count": 12,
   "metadata": {},
   "outputs": [
    {
     "ename": "KeyError",
     "evalue": "\"None of [Index(['Day', 'Month', 'Year', 'High', 'Open', 'Low', 'Close'], dtype='object')] are in the [columns]\"",
     "output_type": "error",
     "traceback": [
      "\u001b[0;31m---------------------------------------------------------------------------\u001b[0m",
      "\u001b[0;31mKeyError\u001b[0m                                  Traceback (most recent call last)",
      "\u001b[0;32m/var/folders/xz/_2c6nksj4pl_by8lq32cfty80000gn/T/ipykernel_61257/4162014368.py\u001b[0m in \u001b[0;36m<module>\u001b[0;34m\u001b[0m\n\u001b[1;32m      1\u001b[0m \u001b[0;31m#intc = df[(df[\"Day\"] % 7 == 0)]\u001b[0m\u001b[0;34m\u001b[0m\u001b[0;34m\u001b[0m\u001b[0m\n\u001b[0;32m----> 2\u001b[0;31m \u001b[0mintc\u001b[0m \u001b[0;34m=\u001b[0m \u001b[0mdf\u001b[0m\u001b[0;34m[\u001b[0m\u001b[0;34m[\u001b[0m\u001b[0;34m\"Day\"\u001b[0m\u001b[0;34m,\u001b[0m \u001b[0;34m\"Month\"\u001b[0m\u001b[0;34m,\u001b[0m \u001b[0;34m\"Year\"\u001b[0m\u001b[0;34m,\u001b[0m \u001b[0;34m\"High\"\u001b[0m\u001b[0;34m,\u001b[0m \u001b[0;34m\"Open\"\u001b[0m\u001b[0;34m,\u001b[0m \u001b[0;34m\"Low\"\u001b[0m\u001b[0;34m,\u001b[0m \u001b[0;34m\"Close\"\u001b[0m\u001b[0;34m]\u001b[0m\u001b[0;34m]\u001b[0m\u001b[0;34m\u001b[0m\u001b[0;34m\u001b[0m\u001b[0m\n\u001b[0m\u001b[1;32m      3\u001b[0m \u001b[0mintc\u001b[0m\u001b[0;34m.\u001b[0m\u001b[0mtail\u001b[0m\u001b[0;34m(\u001b[0m\u001b[0;36m10\u001b[0m\u001b[0;34m)\u001b[0m\u001b[0;34m\u001b[0m\u001b[0;34m\u001b[0m\u001b[0m\n",
      "\u001b[0;32m~/opt/anaconda3/lib/python3.9/site-packages/pandas/core/frame.py\u001b[0m in \u001b[0;36m__getitem__\u001b[0;34m(self, key)\u001b[0m\n\u001b[1;32m   3462\u001b[0m             \u001b[0;32mif\u001b[0m \u001b[0mis_iterator\u001b[0m\u001b[0;34m(\u001b[0m\u001b[0mkey\u001b[0m\u001b[0;34m)\u001b[0m\u001b[0;34m:\u001b[0m\u001b[0;34m\u001b[0m\u001b[0;34m\u001b[0m\u001b[0m\n\u001b[1;32m   3463\u001b[0m                 \u001b[0mkey\u001b[0m \u001b[0;34m=\u001b[0m \u001b[0mlist\u001b[0m\u001b[0;34m(\u001b[0m\u001b[0mkey\u001b[0m\u001b[0;34m)\u001b[0m\u001b[0;34m\u001b[0m\u001b[0;34m\u001b[0m\u001b[0m\n\u001b[0;32m-> 3464\u001b[0;31m             \u001b[0mindexer\u001b[0m \u001b[0;34m=\u001b[0m \u001b[0mself\u001b[0m\u001b[0;34m.\u001b[0m\u001b[0mloc\u001b[0m\u001b[0;34m.\u001b[0m\u001b[0m_get_listlike_indexer\u001b[0m\u001b[0;34m(\u001b[0m\u001b[0mkey\u001b[0m\u001b[0;34m,\u001b[0m \u001b[0maxis\u001b[0m\u001b[0;34m=\u001b[0m\u001b[0;36m1\u001b[0m\u001b[0;34m)\u001b[0m\u001b[0;34m[\u001b[0m\u001b[0;36m1\u001b[0m\u001b[0;34m]\u001b[0m\u001b[0;34m\u001b[0m\u001b[0;34m\u001b[0m\u001b[0m\n\u001b[0m\u001b[1;32m   3465\u001b[0m \u001b[0;34m\u001b[0m\u001b[0m\n\u001b[1;32m   3466\u001b[0m         \u001b[0;31m# take() does not accept boolean indexers\u001b[0m\u001b[0;34m\u001b[0m\u001b[0;34m\u001b[0m\u001b[0m\n",
      "\u001b[0;32m~/opt/anaconda3/lib/python3.9/site-packages/pandas/core/indexing.py\u001b[0m in \u001b[0;36m_get_listlike_indexer\u001b[0;34m(self, key, axis)\u001b[0m\n\u001b[1;32m   1312\u001b[0m             \u001b[0mkeyarr\u001b[0m\u001b[0;34m,\u001b[0m \u001b[0mindexer\u001b[0m\u001b[0;34m,\u001b[0m \u001b[0mnew_indexer\u001b[0m \u001b[0;34m=\u001b[0m \u001b[0max\u001b[0m\u001b[0;34m.\u001b[0m\u001b[0m_reindex_non_unique\u001b[0m\u001b[0;34m(\u001b[0m\u001b[0mkeyarr\u001b[0m\u001b[0;34m)\u001b[0m\u001b[0;34m\u001b[0m\u001b[0;34m\u001b[0m\u001b[0m\n\u001b[1;32m   1313\u001b[0m \u001b[0;34m\u001b[0m\u001b[0m\n\u001b[0;32m-> 1314\u001b[0;31m         \u001b[0mself\u001b[0m\u001b[0;34m.\u001b[0m\u001b[0m_validate_read_indexer\u001b[0m\u001b[0;34m(\u001b[0m\u001b[0mkeyarr\u001b[0m\u001b[0;34m,\u001b[0m \u001b[0mindexer\u001b[0m\u001b[0;34m,\u001b[0m \u001b[0maxis\u001b[0m\u001b[0;34m)\u001b[0m\u001b[0;34m\u001b[0m\u001b[0;34m\u001b[0m\u001b[0m\n\u001b[0m\u001b[1;32m   1315\u001b[0m \u001b[0;34m\u001b[0m\u001b[0m\n\u001b[1;32m   1316\u001b[0m         if needs_i8_conversion(ax.dtype) or isinstance(\n",
      "\u001b[0;32m~/opt/anaconda3/lib/python3.9/site-packages/pandas/core/indexing.py\u001b[0m in \u001b[0;36m_validate_read_indexer\u001b[0;34m(self, key, indexer, axis)\u001b[0m\n\u001b[1;32m   1372\u001b[0m                 \u001b[0;32mif\u001b[0m \u001b[0muse_interval_msg\u001b[0m\u001b[0;34m:\u001b[0m\u001b[0;34m\u001b[0m\u001b[0;34m\u001b[0m\u001b[0m\n\u001b[1;32m   1373\u001b[0m                     \u001b[0mkey\u001b[0m \u001b[0;34m=\u001b[0m \u001b[0mlist\u001b[0m\u001b[0;34m(\u001b[0m\u001b[0mkey\u001b[0m\u001b[0;34m)\u001b[0m\u001b[0;34m\u001b[0m\u001b[0;34m\u001b[0m\u001b[0m\n\u001b[0;32m-> 1374\u001b[0;31m                 \u001b[0;32mraise\u001b[0m \u001b[0mKeyError\u001b[0m\u001b[0;34m(\u001b[0m\u001b[0;34mf\"None of [{key}] are in the [{axis_name}]\"\u001b[0m\u001b[0;34m)\u001b[0m\u001b[0;34m\u001b[0m\u001b[0;34m\u001b[0m\u001b[0m\n\u001b[0m\u001b[1;32m   1375\u001b[0m \u001b[0;34m\u001b[0m\u001b[0m\n\u001b[1;32m   1376\u001b[0m             \u001b[0mnot_found\u001b[0m \u001b[0;34m=\u001b[0m \u001b[0mlist\u001b[0m\u001b[0;34m(\u001b[0m\u001b[0mensure_index\u001b[0m\u001b[0;34m(\u001b[0m\u001b[0mkey\u001b[0m\u001b[0;34m)\u001b[0m\u001b[0;34m[\u001b[0m\u001b[0mmissing_mask\u001b[0m\u001b[0;34m.\u001b[0m\u001b[0mnonzero\u001b[0m\u001b[0;34m(\u001b[0m\u001b[0;34m)\u001b[0m\u001b[0;34m[\u001b[0m\u001b[0;36m0\u001b[0m\u001b[0;34m]\u001b[0m\u001b[0;34m]\u001b[0m\u001b[0;34m.\u001b[0m\u001b[0munique\u001b[0m\u001b[0;34m(\u001b[0m\u001b[0;34m)\u001b[0m\u001b[0;34m)\u001b[0m\u001b[0;34m\u001b[0m\u001b[0;34m\u001b[0m\u001b[0m\n",
      "\u001b[0;31mKeyError\u001b[0m: \"None of [Index(['Day', 'Month', 'Year', 'High', 'Open', 'Low', 'Close'], dtype='object')] are in the [columns]\""
     ]
    }
   ],
   "source": [
    "\n",
    "\n",
    "#intc = df[(df[\"Day\"] % 7 == 0)]\n",
    "intc = df[[\"Day\", \"Month\", \"Year\", \"High\", \"Open\", \"Low\", \"Close\"]]\n",
    "intc.tail(10)"
   ]
  },
  {
   "cell_type": "markdown",
   "metadata": {},
   "source": [
    "> Next separate the independent variables (features) from the dependent variable (target column) which is `Close`. So your `X` should contain all columns in `intc` except `Close` and `y` should include `Close` only."
   ]
  },
  {
   "cell_type": "code",
   "execution_count": 66,
   "metadata": {},
   "outputs": [],
   "source": [
    "# Separate features from the target\n",
    "X = df.iloc[:3248, ]\n",
    "y = df.iloc[1:, 4]"
   ]
  },
  {
   "cell_type": "code",
   "execution_count": 67,
   "metadata": {},
   "outputs": [
    {
     "name": "stdout",
     "output_type": "stream",
     "text": [
      "(3248, 8)\n",
      "(3248,)\n"
     ]
    }
   ],
   "source": [
    "print(X.shape)\n",
    "print(y.shape)"
   ]
  },
  {
   "cell_type": "markdown",
   "metadata": {},
   "source": [
    "> **Important Note**: Double-check and make sure that `X` and `y` do NOT have anything in common; otherwise your whole work will be wrong and you'll get zero!"
   ]
  },
  {
   "cell_type": "code",
   "execution_count": 68,
   "metadata": {},
   "outputs": [
    {
     "data": {
      "text/html": [
       "<div>\n",
       "<style scoped>\n",
       "    .dataframe tbody tr th:only-of-type {\n",
       "        vertical-align: middle;\n",
       "    }\n",
       "\n",
       "    .dataframe tbody tr th {\n",
       "        vertical-align: top;\n",
       "    }\n",
       "\n",
       "    .dataframe thead th {\n",
       "        text-align: right;\n",
       "    }\n",
       "</style>\n",
       "<table border=\"1\" class=\"dataframe\">\n",
       "  <thead>\n",
       "    <tr style=\"text-align: right;\">\n",
       "      <th></th>\n",
       "      <th>index</th>\n",
       "      <th>Open</th>\n",
       "      <th>High</th>\n",
       "      <th>Low</th>\n",
       "      <th>Close</th>\n",
       "      <th>Volume</th>\n",
       "      <th>Market Cap</th>\n",
       "      <th>date</th>\n",
       "    </tr>\n",
       "  </thead>\n",
       "  <tbody>\n",
       "    <tr>\n",
       "      <th>0</th>\n",
       "      <td>0</td>\n",
       "      <td>42191.405312</td>\n",
       "      <td>42241.164783</td>\n",
       "      <td>41004.759562</td>\n",
       "      <td>41247.823447</td>\n",
       "      <td>2.012795e+10</td>\n",
       "      <td>7.832606e+11</td>\n",
       "      <td>0</td>\n",
       "    </tr>\n",
       "    <tr>\n",
       "      <th>1</th>\n",
       "      <td>1</td>\n",
       "      <td>41794.647834</td>\n",
       "      <td>42316.554460</td>\n",
       "      <td>41602.668380</td>\n",
       "      <td>42190.653462</td>\n",
       "      <td>1.966485e+10</td>\n",
       "      <td>8.011240e+11</td>\n",
       "      <td>1</td>\n",
       "    </tr>\n",
       "    <tr>\n",
       "      <th>2</th>\n",
       "      <td>2</td>\n",
       "      <td>40944.841680</td>\n",
       "      <td>42195.744760</td>\n",
       "      <td>40302.398049</td>\n",
       "      <td>41801.154496</td>\n",
       "      <td>3.442156e+10</td>\n",
       "      <td>7.936882e+11</td>\n",
       "      <td>2</td>\n",
       "    </tr>\n",
       "    <tr>\n",
       "      <th>3</th>\n",
       "      <td>3</td>\n",
       "      <td>41140.844816</td>\n",
       "      <td>41287.535204</td>\n",
       "      <td>40662.870601</td>\n",
       "      <td>40951.379876</td>\n",
       "      <td>2.200960e+10</td>\n",
       "      <td>7.775152e+11</td>\n",
       "      <td>3</td>\n",
       "    </tr>\n",
       "    <tr>\n",
       "      <th>4</th>\n",
       "      <td>4</td>\n",
       "      <td>39335.569404</td>\n",
       "      <td>41465.451714</td>\n",
       "      <td>39022.347087</td>\n",
       "      <td>41143.928040</td>\n",
       "      <td>3.961692e+10</td>\n",
       "      <td>7.811316e+11</td>\n",
       "      <td>4</td>\n",
       "    </tr>\n",
       "    <tr>\n",
       "      <th>...</th>\n",
       "      <td>...</td>\n",
       "      <td>...</td>\n",
       "      <td>...</td>\n",
       "      <td>...</td>\n",
       "      <td>...</td>\n",
       "      <td>...</td>\n",
       "      <td>...</td>\n",
       "      <td>...</td>\n",
       "    </tr>\n",
       "    <tr>\n",
       "      <th>3243</th>\n",
       "      <td>3243</td>\n",
       "      <td>106.250000</td>\n",
       "      <td>108.127998</td>\n",
       "      <td>79.099998</td>\n",
       "      <td>97.750000</td>\n",
       "      <td>0.000000e+00</td>\n",
       "      <td>1.085995e+09</td>\n",
       "      <td>3243</td>\n",
       "    </tr>\n",
       "    <tr>\n",
       "      <th>3244</th>\n",
       "      <td>3244</td>\n",
       "      <td>116.379997</td>\n",
       "      <td>125.599998</td>\n",
       "      <td>92.281898</td>\n",
       "      <td>105.209999</td>\n",
       "      <td>0.000000e+00</td>\n",
       "      <td>1.168517e+09</td>\n",
       "      <td>3244</td>\n",
       "    </tr>\n",
       "    <tr>\n",
       "      <th>3245</th>\n",
       "      <td>3245</td>\n",
       "      <td>139.000000</td>\n",
       "      <td>139.889999</td>\n",
       "      <td>107.720001</td>\n",
       "      <td>116.989998</td>\n",
       "      <td>0.000000e+00</td>\n",
       "      <td>1.298955e+09</td>\n",
       "      <td>3245</td>\n",
       "    </tr>\n",
       "    <tr>\n",
       "      <th>3246</th>\n",
       "      <td>3246</td>\n",
       "      <td>144.000000</td>\n",
       "      <td>146.929993</td>\n",
       "      <td>134.050003</td>\n",
       "      <td>139.000000</td>\n",
       "      <td>0.000000e+00</td>\n",
       "      <td>1.542813e+09</td>\n",
       "      <td>3246</td>\n",
       "    </tr>\n",
       "    <tr>\n",
       "      <th>3247</th>\n",
       "      <td>3247</td>\n",
       "      <td>134.444000</td>\n",
       "      <td>147.488007</td>\n",
       "      <td>134.000000</td>\n",
       "      <td>144.539993</td>\n",
       "      <td>0.000000e+00</td>\n",
       "      <td>1.603769e+09</td>\n",
       "      <td>3247</td>\n",
       "    </tr>\n",
       "  </tbody>\n",
       "</table>\n",
       "<p>3248 rows × 8 columns</p>\n",
       "</div>"
      ],
      "text/plain": [
       "      index          Open          High           Low         Close  \\\n",
       "0         0  42191.405312  42241.164783  41004.759562  41247.823447   \n",
       "1         1  41794.647834  42316.554460  41602.668380  42190.653462   \n",
       "2         2  40944.841680  42195.744760  40302.398049  41801.154496   \n",
       "3         3  41140.844816  41287.535204  40662.870601  40951.379876   \n",
       "4         4  39335.569404  41465.451714  39022.347087  41143.928040   \n",
       "...     ...           ...           ...           ...           ...   \n",
       "3243   3243    106.250000    108.127998     79.099998     97.750000   \n",
       "3244   3244    116.379997    125.599998     92.281898    105.209999   \n",
       "3245   3245    139.000000    139.889999    107.720001    116.989998   \n",
       "3246   3246    144.000000    146.929993    134.050003    139.000000   \n",
       "3247   3247    134.444000    147.488007    134.000000    144.539993   \n",
       "\n",
       "            Volume    Market Cap  date  \n",
       "0     2.012795e+10  7.832606e+11     0  \n",
       "1     1.966485e+10  8.011240e+11     1  \n",
       "2     3.442156e+10  7.936882e+11     2  \n",
       "3     2.200960e+10  7.775152e+11     3  \n",
       "4     3.961692e+10  7.811316e+11     4  \n",
       "...            ...           ...   ...  \n",
       "3243  0.000000e+00  1.085995e+09  3243  \n",
       "3244  0.000000e+00  1.168517e+09  3244  \n",
       "3245  0.000000e+00  1.298955e+09  3245  \n",
       "3246  0.000000e+00  1.542813e+09  3246  \n",
       "3247  0.000000e+00  1.603769e+09  3247  \n",
       "\n",
       "[3248 rows x 8 columns]"
      ]
     },
     "execution_count": 68,
     "metadata": {},
     "output_type": "execute_result"
    }
   ],
   "source": [
    "X"
   ]
  },
  {
   "cell_type": "code",
   "execution_count": 69,
   "metadata": {},
   "outputs": [
    {
     "data": {
      "text/plain": [
       "1       42190.653462\n",
       "2       41801.154496\n",
       "3       40951.379876\n",
       "4       41143.928040\n",
       "5       39338.785492\n",
       "            ...     \n",
       "3244      105.209999\n",
       "3245      116.989998\n",
       "3246      139.000000\n",
       "3247      144.539993\n",
       "3248      134.210007\n",
       "Name: Close, Length: 3248, dtype: float64"
      ]
     },
     "execution_count": 69,
     "metadata": {},
     "output_type": "execute_result"
    }
   ],
   "source": [
    "y"
   ]
  },
  {
   "cell_type": "markdown",
   "metadata": {},
   "source": [
    "> As mentioned in the lectures, the data for supervised learning (both classification and regression) is split into training set and test set. We usually do this by importing [`train_test_split()`](https://scikit-learn.org/stable/modules/generated/sklearn.model_selection.train_test_split.html) module from scikit-learn.\n",
    "Split the data by a `test_size` ratio of 0.25"
   ]
  },
  {
   "cell_type": "code",
   "execution_count": 70,
   "metadata": {},
   "outputs": [
    {
     "data": {
      "text/html": [
       "<div>\n",
       "<style scoped>\n",
       "    .dataframe tbody tr th:only-of-type {\n",
       "        vertical-align: middle;\n",
       "    }\n",
       "\n",
       "    .dataframe tbody tr th {\n",
       "        vertical-align: top;\n",
       "    }\n",
       "\n",
       "    .dataframe thead th {\n",
       "        text-align: right;\n",
       "    }\n",
       "</style>\n",
       "<table border=\"1\" class=\"dataframe\">\n",
       "  <thead>\n",
       "    <tr style=\"text-align: right;\">\n",
       "      <th></th>\n",
       "      <th>index</th>\n",
       "      <th>Open</th>\n",
       "      <th>High</th>\n",
       "      <th>Low</th>\n",
       "      <th>Close</th>\n",
       "      <th>Volume</th>\n",
       "      <th>Market Cap</th>\n",
       "      <th>date</th>\n",
       "    </tr>\n",
       "  </thead>\n",
       "  <tbody>\n",
       "    <tr>\n",
       "      <th>0</th>\n",
       "      <td>0</td>\n",
       "      <td>42191.405312</td>\n",
       "      <td>42241.164783</td>\n",
       "      <td>41004.759562</td>\n",
       "      <td>41247.823447</td>\n",
       "      <td>2.012795e+10</td>\n",
       "      <td>7.832606e+11</td>\n",
       "      <td>0</td>\n",
       "    </tr>\n",
       "  </tbody>\n",
       "</table>\n",
       "</div>"
      ],
      "text/plain": [
       "   index          Open          High           Low         Close  \\\n",
       "0      0  42191.405312  42241.164783  41004.759562  41247.823447   \n",
       "\n",
       "         Volume    Market Cap  date  \n",
       "0  2.012795e+10  7.832606e+11     0  "
      ]
     },
     "execution_count": 70,
     "metadata": {},
     "output_type": "execute_result"
    }
   ],
   "source": [
    "# Partition the data into train and test with a split ratio of 75/25 for train/test\n",
    "X_train, X_test, y_train, y_test = train_test_split(X, y, test_size = .25)\n",
    "X_test\n",
    "\n",
    "X_this_month = X[:1]\n",
    "\n",
    "\n",
    "X_this_month\n",
    "\n",
    "X_this_month"
   ]
  },
  {
   "cell_type": "code",
   "execution_count": 71,
   "metadata": {},
   "outputs": [
    {
     "name": "stdout",
     "output_type": "stream",
     "text": [
      "(2436, 8)\n",
      "(812, 8)\n",
      "(2436,)\n",
      "(812,)\n"
     ]
    }
   ],
   "source": [
    "print(X_train.shape)\n",
    "print(X_test.shape)\n",
    "print(y_train.shape)\n",
    "print(y_test.shape)"
   ]
  },
  {
   "cell_type": "markdown",
   "metadata": {},
   "source": [
    "## Part-II Linear Regression with Closed Form Solution (Least Squares)"
   ]
  },
  {
   "cell_type": "markdown",
   "metadata": {},
   "source": [
    "Now that the data is prepared, you can train and test regression models.\n",
    "\n",
    "First, you are going to use the Least Squares method using the normal equation. You can check the slides and see examples of the closed form solution (Least Squares) there. You don't have to add a column containing ones. It is fine to add ones similar to the slides/textbook example but you don't have to, you can directly get `theta_best` from `X_train` and `y_train` using normal equation.\n",
    "\n",
    "As discussed in the lectures, the normal equation is as follows:\n",
    "\n",
    "$\n",
    "\\hat{\\boldsymbol{\\theta}} = (\\mathbf{X}^T \\mathbf{X})^{-1} \\mathbf{X}^T \\mathbf{y}\n",
    "$\n",
    "\n",
    "In this normal equation:\n",
    "\n",
    "- $\\hat{\\boldsymbol{\\theta}}$ is the value of $\\theta$ that minimizes the cost function, i.e. `theta_best`.\n",
    "\n",
    "- y is the vector of target values containing $y^{(1)}$ to $y^{(m)}$, i.e. `y_train`.\n",
    "\n",
    "- $\\mathbf{X}$ is the vector of features, i.e. `X_train`."
   ]
  },
  {
   "cell_type": "code",
   "execution_count": 72,
   "metadata": {},
   "outputs": [
    {
     "data": {
      "text/plain": [
       "array([-4.50295474e+15, -3.91322903e+01,  5.84376969e+01,  1.67804504e+01,\n",
       "       -4.11607029e+01, -1.28540179e-07,  2.31379627e-07,  4.07991690e+15])"
      ]
     },
     "execution_count": 72,
     "metadata": {},
     "output_type": "execute_result"
    }
   ],
   "source": [
    "# Compute theta_best using normal equation in ONE LINE\n",
    "# Hint: You should use an np method and pandas dataframe dot product\n",
    "theta_best = np.linalg.inv(X_train.T.dot(X_train)).dot(X_train.T).dot(y_train)\n",
    "theta_best"
   ]
  },
  {
   "cell_type": "code",
   "execution_count": 57,
   "metadata": {},
   "outputs": [
    {
     "ename": "NameError",
     "evalue": "name 'theta_best' is not defined",
     "output_type": "error",
     "traceback": [
      "\u001b[0;31m---------------------------------------------------------------------------\u001b[0m",
      "\u001b[0;31mNameError\u001b[0m                                 Traceback (most recent call last)",
      "\u001b[0;32m/var/folders/xz/_2c6nksj4pl_by8lq32cfty80000gn/T/ipykernel_61257/2238864401.py\u001b[0m in \u001b[0;36m<module>\u001b[0;34m\u001b[0m\n\u001b[0;32m----> 1\u001b[0;31m \u001b[0mtheta_best\u001b[0m\u001b[0;34m.\u001b[0m\u001b[0mshape\u001b[0m\u001b[0;34m\u001b[0m\u001b[0;34m\u001b[0m\u001b[0m\n\u001b[0m",
      "\u001b[0;31mNameError\u001b[0m: name 'theta_best' is not defined"
     ]
    }
   ],
   "source": [
    "theta_best.shape"
   ]
  },
  {
   "cell_type": "code",
   "execution_count": 58,
   "metadata": {},
   "outputs": [
    {
     "ename": "NameError",
     "evalue": "name 'theta_best' is not defined",
     "output_type": "error",
     "traceback": [
      "\u001b[0;31m---------------------------------------------------------------------------\u001b[0m",
      "\u001b[0;31mNameError\u001b[0m                                 Traceback (most recent call last)",
      "\u001b[0;32m/var/folders/xz/_2c6nksj4pl_by8lq32cfty80000gn/T/ipykernel_61257/2327659772.py\u001b[0m in \u001b[0;36m<module>\u001b[0;34m\u001b[0m\n\u001b[1;32m      1\u001b[0m \u001b[0;31m# Make predictions on X_test using theta_best\u001b[0m\u001b[0;34m\u001b[0m\u001b[0;34m\u001b[0m\u001b[0m\n\u001b[0;32m----> 2\u001b[0;31m \u001b[0my_pred_ls\u001b[0m \u001b[0;34m=\u001b[0m \u001b[0mX_test\u001b[0m\u001b[0;34m.\u001b[0m\u001b[0mdot\u001b[0m\u001b[0;34m(\u001b[0m\u001b[0mtheta_best\u001b[0m\u001b[0;34m)\u001b[0m\u001b[0;34m\u001b[0m\u001b[0;34m\u001b[0m\u001b[0m\n\u001b[0m\u001b[1;32m      3\u001b[0m \u001b[0my_pred_ls\u001b[0m\u001b[0;34m\u001b[0m\u001b[0;34m\u001b[0m\u001b[0m\n\u001b[1;32m      4\u001b[0m \u001b[0;34m\u001b[0m\u001b[0m\n\u001b[1;32m      5\u001b[0m \u001b[0my_pred_this_month\u001b[0m \u001b[0;34m=\u001b[0m \u001b[0mX_this_month\u001b[0m\u001b[0;34m.\u001b[0m\u001b[0mdot\u001b[0m\u001b[0;34m(\u001b[0m\u001b[0mtheta_best\u001b[0m\u001b[0;34m)\u001b[0m\u001b[0;34m\u001b[0m\u001b[0;34m\u001b[0m\u001b[0m\n",
      "\u001b[0;31mNameError\u001b[0m: name 'theta_best' is not defined"
     ]
    }
   ],
   "source": [
    "# Make predictions on X_test using theta_best\n",
    "y_pred_ls = X_test.dot(theta_best)\n",
    "y_pred_ls\n",
    "\n",
    "y_pred_this_month = X_this_month.dot(theta_best)\n",
    "print(y_pred_this_month)\n",
    "\n",
    "print(((y_pred_this_month / X_this_month[\"Close\"]) - 1) * 100)\n",
    "print(\"% gain this month based on SVR model\")\n",
    "\n"
   ]
  },
  {
   "cell_type": "markdown",
   "metadata": {},
   "source": [
    "#### Regression Model Evaluation: MSE, RMSE, MAE"
   ]
  },
  {
   "cell_type": "markdown",
   "metadata": {},
   "source": [
    "Next, you should evaluate the regression model.\n",
    "\n",
    "Remember from the lectures that three of the regression performance measures are MSE, RMSE, and MAE:\n",
    "\n",
    "$\n",
    "\\text{MSE}(\\mathbf{X}, h_{\\boldsymbol{\\theta}}) = \\dfrac{1}{m} \\sum\\limits_{i=1}^{m}{(\\boldsymbol{\\theta}^T \\mathbf{x}^{(i)} - y^{(i)})^2}\n",
    "$\n",
    "\n",
    "\n",
    "$\n",
    "\\text{RMSE}(\\mathbf{X}, h_{\\boldsymbol{\\theta}}) = \\sqrt{\\dfrac{1}{m} \\sum\\limits_{i=1}^{m}{(\\boldsymbol{\\theta}^T \\mathbf{x}^{(i)} - y^{(i)})^2}}\n",
    "$\n",
    "\n",
    "$\n",
    "\\text{MAE}(\\mathbf{X}, h_{\\boldsymbol{\\theta}}) = \\frac{1}{m}\\sum\\limits_{i=1}^{m}\\left| \\boldsymbol{\\theta}^T \\mathbf{x}^{(i)} - y^{(i)} \\right|\n",
    "$\n",
    "\n",
    "where $\\boldsymbol{\\theta}^T \\mathbf{x}^{(i)}$ is your prediction versus $y^{(i)}$ target values, and $m$ is number of instances.\n",
    "\n",
    "You should implement `mse`, `rmse`, and `mae` functions using ONE LINE of code for each `return` and by using Numpy `np` methods only. You should NOT use sklearn methods for implementing them, otherwise your code gets zero points for this part."
   ]
  },
  {
   "cell_type": "code",
   "execution_count": 36,
   "metadata": {},
   "outputs": [],
   "source": [
    "def mse(y_true, y_pred):\n",
    "    return (np.sum((y_pred - y_true) ** 2)) / len(y_test)"
   ]
  },
  {
   "cell_type": "code",
   "execution_count": 37,
   "metadata": {},
   "outputs": [],
   "source": [
    "def rmse(y_true, y_pred):\n",
    "    return (mean_squared_error(y_pred, y_true) ** .5)"
   ]
  },
  {
   "cell_type": "code",
   "execution_count": 38,
   "metadata": {},
   "outputs": [],
   "source": [
    "def mae(y_true, y_pred):\n",
    "    return np.sum(np.absolute(y_pred - y_test))/len(y_test)"
   ]
  },
  {
   "cell_type": "markdown",
   "metadata": {},
   "source": [
    "> Now compute the `mse`, `rmse`, and `mae` for the Least Squares regression model. They all should be small numbers less than 1. "
   ]
  },
  {
   "cell_type": "code",
   "execution_count": 39,
   "metadata": {},
   "outputs": [
    {
     "name": "stdout",
     "output_type": "stream",
     "text": [
      "LS MSE 94.4314359828256\n",
      "LS RMSE 7.458961436093691\n",
      "LS MAE 3.443020235839784\n"
     ]
    }
   ],
   "source": [
    "mse_ls = mse(y_test, y_pred_ls)\n",
    "rmse_ls = rmse(y_test, y_pred_ls)\n",
    "mae_ls = mae(y_test, y_pred_ls)\n",
    "print('LS MSE', mse_ls)\n",
    "print('LS RMSE', rmse_ls)\n",
    "print('LS MAE', mae_ls)"
   ]
  },
  {
   "cell_type": "code",
   "execution_count": 40,
   "metadata": {},
   "outputs": [
    {
     "name": "stdout",
     "output_type": "stream",
     "text": [
      "3.4430202358397838935388791\n"
     ]
    }
   ],
   "source": [
    "print(\"{:.25f}\".format(mae_ls))"
   ]
  },
  {
   "cell_type": "markdown",
   "metadata": {},
   "source": [
    "> Next, you should check your implemented methods `mae` and `mse` by comparing your scores with the scores computed by [scikit-learn methods](https://scikit-learn.org/stable/modules/model_evaluation.html#mean-absolute-error). They should match precisely. **Note**: Do NOT round the scores. Their precision should NOT be reduced AT ALL!"
   ]
  },
  {
   "cell_type": "code",
   "execution_count": 41,
   "metadata": {},
   "outputs": [
    {
     "name": "stdout",
     "output_type": "stream",
     "text": [
      "7.458961436093691\n",
      "3.596781525457205\n",
      "55.63610570513286\n"
     ]
    }
   ],
   "source": [
    "# Compute mae and mse of LS model by sklearn methods\n",
    "sklearn_mae_ls = mean_absolute_error(y_test, y_pred_ls)\n",
    "sklearn_mse_ls = mean_squared_error(y_pred_ls, y_test)\n",
    "sklearn_rmse_ls = (mean_squared_error(y_pred_ls, y_test) ** .5)\n",
    "\n",
    "print(sklearn_rmse_ls)\n",
    "print(sklearn_mae_ls)\n",
    "print(sklearn_mse_ls)"
   ]
  },
  {
   "cell_type": "markdown",
   "metadata": {},
   "source": [
    "> **WARNING**: If you manipualte this test to get it passed, you'll get ZERO for the assignment and it will be reported as cheating!"
   ]
  },
  {
   "cell_type": "code",
   "execution_count": 42,
   "metadata": {},
   "outputs": [
    {
     "name": "stdout",
     "output_type": "stream",
     "text": [
      "MAE is wrong!\n",
      "MSE is wrong!\n"
     ]
    }
   ],
   "source": [
    "# Scores computed by your functions should be equal to the scores computed by sklearn methods EXACTLY\n",
    "if sklearn_mae_ls == mae_ls:\n",
    "    print('MAE is correct!')\n",
    "else:\n",
    "    print('MAE is wrong!')\n",
    "    \n",
    "if sklearn_mse_ls == mse_ls:\n",
    "    print('MSE is correct!')\n",
    "else:\n",
    "    print('MSE is wrong!')  "
   ]
  },
  {
   "cell_type": "markdown",
   "metadata": {},
   "source": [
    "> Next, you should show that your LS regression model works pretty well by generating the following plot `INTC Close Price - Actual vs Prediction`. Your generated plot should look EXACTLY the same as the provided one. You should use the same specifications of the previous plot in Part-I for (size, font size, style). Check [matplotlib documentation](https://matplotlib.org/stable/api/_as_gen/matplotlib.pyplot.plot.html) to learn how to change specifications.\n",
    "\n",
    "> The plot shows that `Actual` target values (`y_test`) and `Prediction` values of the LS model (`y_pred_ls`) match very highly."
   ]
  },
  {
   "cell_type": "code",
   "execution_count": 43,
   "metadata": {},
   "outputs": [
    {
     "name": "stdout",
     "output_type": "stream",
     "text": [
      "<matplotlib.legend.Legend at 0x7f43ca2171f0>\n"
     ]
    },
    {
     "data": {
      "image/png": "[encoded data removed]",
      "text/plain": [
       "<Figure size 1152x576 with 1 Axes>"
      ]
     },
     "metadata": {},
     "output_type": "display_data"
    }
   ],
   "source": [
    "''' [10 points] Incomplete plots and plots that do not precisely match with the provided plot get zero.\n",
    "\n",
    "Plot the Actual (y_test) vs Prediction (y_pred_ls) of LS model\n",
    "\n",
    "The legend should display two different colors just like this plot, blue for `Actual` and red for `Prediction`.\n",
    "\n",
    "The red points for Prediction should be slightly smaller than Actual just like the legend points,\n",
    "so that they are both displayed properly as displayed below.\n",
    "\n",
    "Everything else (the title, grid, axis labels and ticks) should match precisely with the provided plot.\n",
    "\n",
    "Note that x-axis has the label `Date [2012-2022]` with no `xticks` and there is no vertical bars in the grid.\n",
    "\n",
    "'''\n",
    "\n",
    "seaborn.set_theme()\n",
    "plt.figure(figsize = (16,8))\n",
    "\n",
    "plt.title(\"SPX500 Monthly Close - Actual vs Prediction of LS Model\", fontsize = 18)\n",
    "plt.xlabel(\"Date[2000-2022]\", fontsize = 16)\n",
    "plt.ylabel(\"SPX500 Close Price (USD)\", fontsize = 16)\n",
    "\n",
    "plt.plot(y_test, \".\", color = \"blue\", markersize=20, label = 'Actual')\n",
    "plt.plot(y_pred_ls, \".\", color = \"red\", label = 'Prediction')\n",
    "\n",
    "plt.legend(loc = 'upper right', frameon = False)\n",
    "plt.xticks([])\n",
    "plt.gca().invert_xaxis()\n",
    "plt.gca().xaxis.grid(False)\n",
    "\n",
    "print('<matplotlib.legend.Legend at 0x7f43ca2171f0>')\n",
    "plt.show()"
   ]
  },
  {
   "cell_type": "markdown",
   "metadata": {},
   "source": [
    "### Part-II Questions"
   ]
  },
  {
   "cell_type": "markdown",
   "metadata": {},
   "source": [
    "- **Q1** [5 points] Why `theta_best.shape` shape is (6,)? You should explain completely.\n",
    "\n",
    "- Answer of Q1: 'Theta_best.shape' is (6,) because it is the shape that results from the matrix multiplication. X^T * X results in the shape (6,6) and the inverse is (6,6). Furthermore, X^T * y results in the matrix of shape (6,1). Thus a (6,6) matrix * (6,1) matrix results in the (6,1) matrix, theta_best. Furthermore, each number in the 6 by 1 matrix reprsents the coefficient for the features in the dataframe that minimizes the cost(), hence providing the best estimate.\n",
    "\n",
    "\n",
    "- **Q2** [5 point] Do some research and find out when/why MAE may be favored against MSE and vice-versa. In other words, in what situations MAE is a better indication of model performance and in what situations MSE? Explain your findings completely.\n",
    "\n",
    "- Answer of Q2: MAE may be more suitable than MSE in situations where there are a lot of outliers in the data since MSE magnifies the same error by squaring it. Thus large outliers will have a greater impact on that performance metric in juxtaposition with MAE which takes that error into account for how much it is. However, generally speaking MSE is better with data that has less outliers since it is differntiable allowing multiple operations to be done to that value.\n"
   ]
  },
  {
   "cell_type": "markdown",
   "metadata": {},
   "source": [
    "## Part-III  Scikit-learn Linear Regression, SVR and XGBoost"
   ]
  },
  {
   "cell_type": "markdown",
   "metadata": {},
   "source": [
    "In Part-III, you are going to use [Linear Regression](https://scikit-learn.org/stable/modules/generated/sklearn.linear_model.LinearRegression.html), [SVR](https://scikit-learn.org/stable/modules/generated/sklearn.svm.SVR.html) and [XGBoost](https://xgboost.readthedocs.io/en/latest/python/python_api.html#module-xgboost.sklearn) to build regression models."
   ]
  },
  {
   "cell_type": "code",
   "execution_count": 55,
   "metadata": {},
   "outputs": [
    {
     "data": {
      "text/plain": [
       "LinearRegression()"
      ]
     },
     "execution_count": 55,
     "metadata": {},
     "output_type": "execute_result"
    }
   ],
   "source": [
    "# Build a LinearRegression model and train it on (X_train, y_train)\n",
    "lin_reg = LinearRegression()\n",
    "lin_reg.fit(X_train, y_train)"
   ]
  },
  {
   "cell_type": "code",
   "execution_count": 56,
   "metadata": {},
   "outputs": [],
   "source": [
    "# Test lin_reg on X_test\n",
    "y_pred_lin_reg = lin_reg.predict(X_test)"
   ]
  },
  {
   "cell_type": "code",
   "execution_count": 57,
   "metadata": {},
   "outputs": [
    {
     "name": "stdout",
     "output_type": "stream",
     "text": [
      "Linear Regression RMSE 106.02306801258325\n"
     ]
    }
   ],
   "source": [
    "# Compute rmse for lin_reg using your own rmse function\n",
    "rmse_lin_reg = rmse(y_test, y_pred_lin_reg)\n",
    "print('Linear Regression RMSE', rmse_lin_reg)"
   ]
  },
  {
   "cell_type": "markdown",
   "metadata": {},
   "source": [
    "> Next, you should generate a plot Actual (`y_test`) on the y-axis vs Prediction (`y_pred_lin_reg`) on the x-axis that looks exactly like the following plot. Very minor variance in the blue points is acceptable but the line should be exactly the same.\n",
    "\n",
    "> The plot is titled `Plot Q3` because question **Q3** asks about it. The plot has 5 points, and the correct answer to **Q3** has also 5 points."
   ]
  },
  {
   "cell_type": "code",
   "execution_count": 58,
   "metadata": {},
   "outputs": [
    {
     "name": "stdout",
     "output_type": "stream",
     "text": [
      "Text(0, 0.5, 'Actual ')\n"
     ]
    },
    {
     "data": {
      "image/png": "[encoded data removed]",
      "text/plain": [
       "<Figure size 1152x576 with 1 Axes>"
      ]
     },
     "metadata": {},
     "output_type": "display_data"
    }
   ],
   "source": [
    "# Plot Q3 [5 points]\n",
    "\n",
    "seaborn.set_theme()\n",
    "plt.figure(figsize = (16,8))\n",
    "\n",
    "plt.title(\"Actual vs Prediction\", fontsize = 18)\n",
    "plt.xlabel(\"Prediction\", fontsize = 16)\n",
    "plt.ylabel(\"Actual)\", fontsize = 16)\n",
    "\n",
    "plt.plot(y_pred_lin_reg, y_test, \".\", color = \"blue\", markersize=20, label = 'Actual')\n",
    "\n",
    "print('Text(0, 0.5, \\'Actual \\')')\n",
    "plt.show()"
   ]
  },
  {
   "cell_type": "markdown",
   "metadata": {},
   "source": [
    "> Next build a SVM regression model (SVR). Remember that SVM can be used for both classification and regression."
   ]
  },
  {
   "cell_type": "code",
   "execution_count": 59,
   "metadata": {},
   "outputs": [
    {
     "data": {
      "text/plain": [
       "SVR(kernel='linear')"
      ]
     },
     "execution_count": 59,
     "metadata": {},
     "output_type": "execute_result"
    }
   ],
   "source": [
    "# Build a SVR (SVM Regression) model and train it on (X_train, y_train), kernel should be 'linear'\n",
    "svr = SVR(kernel = 'linear')\n",
    "svr.fit(X_train, y_train)"
   ]
  },
  {
   "cell_type": "code",
   "execution_count": 96,
   "metadata": {},
   "outputs": [],
   "source": [
    "# Test svr\n",
    "y_pred_svr = svr.predict(X_test)"
   ]
  },
  {
   "cell_type": "code",
   "execution_count": 97,
   "metadata": {},
   "outputs": [
    {
     "name": "stdout",
     "output_type": "stream",
     "text": [
      "SVR RMSE 94.11263274725756\n"
     ]
    }
   ],
   "source": [
    "# Compute rmse for svr\n",
    "rmse_svr = mean_squared_error(y_pred_svr, y_test) ** .5 \n",
    "print('SVR RMSE', rmse_svr)"
   ]
  },
  {
   "cell_type": "markdown",
   "metadata": {},
   "source": [
    "> Next, you should create an [XGBoost Regression](https://xgboost.readthedocs.io/en/latest/python/python_api.html#module-xgboost.sklearn) model. You should build a `XGBRegressor()` model and pass this argument `objective ='reg:squarederror'` to it."
   ]
  },
  {
   "cell_type": "code",
   "execution_count": 98,
   "metadata": {},
   "outputs": [
    {
     "data": {
      "text/plain": [
       "XGBRegressor(base_score=0.5, booster='gbtree', colsample_bylevel=1,\n",
       "             colsample_bynode=1, colsample_bytree=1, enable_categorical=False,\n",
       "             gamma=0, gpu_id=-1, importance_type=None,\n",
       "             interaction_constraints='', learning_rate=0.300000012,\n",
       "             max_delta_step=0, max_depth=6, min_child_weight=1, missing=nan,\n",
       "             monotone_constraints='()', n_estimators=100, n_jobs=8,\n",
       "             num_parallel_tree=1, predictor='auto', random_state=0, reg_alpha=0,\n",
       "             reg_lambda=1, scale_pos_weight=1, subsample=1, tree_method='exact',\n",
       "             validate_parameters=1, verbosity=None)"
      ]
     },
     "execution_count": 98,
     "metadata": {},
     "output_type": "execute_result"
    }
   ],
   "source": [
    "# Build a xgb regression model and train it on (X_train, y_train)\n",
    "xgb_reg = XGBRegressor( objective ='reg:squarederror')\n",
    "\n",
    "xgb_reg.fit(X_train, y_train)"
   ]
  },
  {
   "cell_type": "code",
   "execution_count": 99,
   "metadata": {},
   "outputs": [],
   "source": [
    "# Test xgb_reg\n",
    "y_pred_xgb = xgb_reg.predict(X_test)"
   ]
  },
  {
   "cell_type": "code",
   "execution_count": 100,
   "metadata": {},
   "outputs": [
    {
     "name": "stdout",
     "output_type": "stream",
     "text": [
      "XGB RMSE 106.59538237312397\n"
     ]
    }
   ],
   "source": [
    "# Compute rmse for xgb_reg\n",
    "rmse_xgb = mean_squared_error(y_pred_xgb, y_test) ** .5 \n",
    "print('XGB RMSE', rmse_xgb)"
   ]
  },
  {
   "cell_type": "markdown",
   "metadata": {},
   "source": [
    "> Next, you should fine-tune hyperparameters of SVR per the instructions in the following cell.\n",
    "\n",
    "> If a model has a lot of hyperparameters, it is not an easy task to fine-tune them, and as you experienced, `GridSearchCV` takes a lot of time, so this time you're going to use a different search strategy [`RandomizedSearchCV`](https://scikit-learn.org/stable/modules/generated/sklearn.model_selection.RandomizedSearchCV.html) which is much faster and more efficient than `GridSearchCV` (which is more suitable when you have fewer number of combinations of hyperparameters). Read its documentation and notice that while it is very similar to `GridSearchCV`, the dictionary that stores the params/values is a different parameter in this method.\n",
    "\n",
    "> Also, read [this article](https://scikit-learn.org/stable/auto_examples/model_selection/plot_randomized_search.html) on the comparison between the two search methods. "
   ]
  },
  {
   "cell_type": "code",
   "execution_count": 101,
   "metadata": {},
   "outputs": [
    {
     "name": "stdout",
     "output_type": "stream",
     "text": [
      "Randomized search for hyperparameter tuning of SVR Regressor\n",
      "Best Parameters: {'tol': 0.004, 'shrinking': False, 'epsilon': 0.25, 'C': 0.25}\n"
     ]
    }
   ],
   "source": [
    "'''[20 points] If you do not satisfy the rmse requirement in the following cell, the grade of this part will be zero\n",
    "Fine-tune hyperparameters of SVR using RandomizedSearchCV to get rmse 0.25 or lower\n",
    "You must tune 'tol', 'C', 'epsilon', 'shrinking' in the search\n",
    "You should include at least two values per hyperparameter (and more if needed)\n",
    "'''\n",
    "param_grid =  [\n",
    "        {'tol': [.001, .002, .004], 'C': [.08, .10, .25, .15], 'epsilon': [.2, .35, .25],\n",
    "         'shrinking': [True, False]}\n",
    "]\n",
    "\n",
    "randomized_search = RandomizedSearchCV(svr, param_grid, cv = 5, scoring='neg_mean_squared_error', return_train_score=True)\n",
    "best_svr = randomized_search.fit(X_train, y_train)\n",
    "\n",
    "print('Randomized search for hyperparameter tuning of SVR Regressor')\n",
    "print('Best Parameters: ' + str(best_svr.best_params_))"
   ]
  },
  {
   "cell_type": "code",
   "execution_count": 102,
   "metadata": {},
   "outputs": [
    {
     "name": "stdout",
     "output_type": "stream",
     "text": [
      "SVR(C=0.25, epsilon=0.25, kernel='linear', shrinking=False, tol=0.004)\n",
      "Best SVR RMSE 93.51314448802943\n"
     ]
    }
   ],
   "source": [
    "# Train and test best_svr, and compute rmse with your rmse function that you implemented\n",
    "best_svr = best_svr.best_estimator_\n",
    "svr = best_svr\n",
    "svr.fit(X_train, y_train)\n",
    "y_pred_best_svr = svr.predict(X_test)\n",
    "rmse_best_svr = mean_squared_error(y_pred_best_svr, y_test) ** .5 \n",
    "print(svr)\n",
    "print('Best SVR RMSE', rmse_best_svr)"
   ]
  },
  {
   "cell_type": "markdown",
   "metadata": {},
   "source": [
    "> **Maximum Acceptable RMSE Requirement for Best SVR**: Your rounded `rmse_best_svr` with two decimal places should be less than or equal to **0.25**, so if your rounded `rmse_best_svr` is higher than 0.25, it is NOT acceptable. It should be 0.25 or lower; **otherwise it gets zero points for this part**. The correct implementation of the randomized search and getting the desired rmse has 20 points.\n",
    "\n",
    "> **Hint**: Because you are using `RandomizedSearchCV` which takes less time, you should try more hyperparameters and more values, and you may have to run the randomized search multiple times until you get `rmse_best_svr` equal to 0.25 or lower. If after a few runs you couldn't get the desired result, you may have to repartition the data again (rerun the `train_test_split()` method and try again with a new search). You should do this experiment patiently as it may take a lot of time and efforts. One has to work tirelessly to gain the required skills and the desired results in ML and Data Science projects."
   ]
  },
  {
   "cell_type": "markdown",
   "metadata": {},
   "source": [
    "> Last step is calculating another regression performance measure $R^2$ [Coefficient of Determination](https://en.wikipedia.org/wiki/Coefficient_of_determination). You can use sklearn [`r2_score`](https://scikit-learn.org/stable/modules/generated/sklearn.metrics.r2_score.html) method. For SVR, the $R^2$ score must be for the `best_svr`. All $R^2$ scores of your regression models should be close to 1. "
   ]
  },
  {
   "cell_type": "code",
   "execution_count": 108,
   "metadata": {},
   "outputs": [
    {
     "name": "stdout",
     "output_type": "stream",
     "text": [
      "Least Squares R2:  0.9868133274252832\n",
      "Linear Regression R2:  0.9861775785462468\n",
      "XGB R2:  0.9815439213954626\n",
      "Best SVR R2:  0.9857960881182813\n"
     ]
    }
   ],
   "source": [
    "r2_ls = r2_score(y_test, y_pred_ls)\n",
    "r2_lin_reg = r2_score(y_test, y_pred_lin_reg)\n",
    "r2_xgb = r2_score(y_test, y_pred_xgb)\n",
    "r2_best_svr = r2_score(y_test, y_pred_best_svr)\n",
    "\n",
    "print('Least Squares R2: ', r2_ls)\n",
    "print('Linear Regression R2: ', r2_lin_reg)\n",
    "print('XGB R2: ', r2_xgb)\n",
    "print('Best SVR R2: ', r2_best_svr)"
   ]
  },
  {
   "cell_type": "code",
   "execution_count": 114,
   "metadata": {},
   "outputs": [
    {
     "name": "stdout",
     "output_type": "stream",
     "text": [
      "[4376.42090505]\n",
      "18    0.304389\n",
      "Name: Open, dtype: float64\n",
      "% gain this month based on SVR model\n"
     ]
    }
   ],
   "source": [
    "y_next_month = svr.predict(X_this_month)\n",
    "print(y_next_month)\n",
    "\n",
    "print(((y_next_month / X_this_month[\"Open\"]) - 1) * 100)\n",
    "print(\"% gain this month based on SVR model\")\n"
   ]
  },
  {
   "cell_type": "markdown",
   "metadata": {},
   "source": [
    "### Part-III Question"
   ]
  },
  {
   "cell_type": "markdown",
   "metadata": {},
   "source": [
    "- **Q3** [5 points] What does `Plot Q3` the Actual vs Prediction plot of `lin_reg` model imply? Explain completely. You should justify your answer **mathematically**, otherwise your answer gets zero.\n",
    "- Answer of Q3: \n",
    "\n",
    "The `Plot Q3` the Actual vs Prediction plot of `lin_reg` model implies that the Actual and Prediction are almost identical. From a mathematical standpoint we can see that the Actual vs Prediciton formed a straight line with the slope 1. Thus we see that the plot generates y = x hence the actual = prediction which is what the plot displays"
   ]
  },
  {
   "cell_type": "markdown",
   "metadata": {},
   "source": [
    "## Grading\n",
    "\n",
    "Assignment-2 has a maximum of 100 points. **You must run all cells** and get the correct outputs for all cells and give complete answers to all questions. **Cells/codes with no output get zero!** Also, your notebook should be written with no grammatical and spelling errors and should be easy-to-read.\n",
    "\n",
    "The breakdown of the 100 points is as follows:\n",
    "\n",
    "- Part-I - 15 points - **Incorrect/incomplete plot in Part-I gets zero.**\n",
    "   \n",
    "\n",
    "- Part-II - 45 points\n",
    "    - Implementation and results: 35 points\n",
    "        - Correct Least Squares model: 10 points\n",
    "        - Correct mse, rmse, and mae functions: 15 points\n",
    "        - Correct \"INTC Close Price - Actual vs Prediction\" plot: 10 points - **Incorrect/incomplete plot gets zero.**\n",
    "    - Part-II Questions: 10 points\n",
    "    \n",
    "\n",
    "- Part-III - 40 points\n",
    "    - Implementation and results: 35 points\n",
    "        - Building three regression models: 15 points\n",
    "        - Randomized search and getting the desired rmse for `best_svr`: 20 points **Note**: Incorrect `RandomizedSearchCV` and not meeting the rmse requirement (0.25 or lower) get zero.\n",
    "    - Part-III Question: 5 points\n",
    "    \n",
    "\n",
    "<b>Note: </b>Follow the instructions of each section carefully. **Up to 10 points may be deducted if your submitted notebook is not easy to read and follow or if it has grammatical, spelling or formatting issues.**\n",
    "\n",
    "Grading will be based on: \n",
    "\n",
    "  * correct implementation,\n",
    "  * running ALL cells and correct outputs and plots, (cells with no output get ZERO for the whole part that includes the cell)\n",
    "  * correct answer to the questions,\n",
    "  * readability of the notebook."
   ]
  },
  {
   "cell_type": "markdown",
   "metadata": {},
   "source": [
    "## Submission"
   ]
  },
  {
   "cell_type": "markdown",
   "metadata": {},
   "source": [
    "Name your notebook ```Lastname-A2.ipynb```. Submit the completed notebook using the ```Assignment-2``` link on Blackboard.\n",
    "\n",
    "**Note:** You have a maximum of TWO submissions. If you submit a second notebook, your second notebook will be graded and the first submitted notebook will be ignored. Be very careful in your submissions as resubmission requests (for the third time) will NOT be accepted!\n",
    "  \n",
    "<font color=red><b>Due Date: Thursday March 10th, 11:59PM</b></font>"
   ]
  }
 ],
 "metadata": {
  "kernelspec": {
   "display_name": "Python 3 (ipykernel)",
   "language": "python",
   "name": "python3"
  },
  "language_info": {
   "codemirror_mode": {
    "name": "ipython",
    "version": 3
   },
   "file_extension": ".py",
   "mimetype": "text/x-python",
   "name": "python",
   "nbconvert_exporter": "python",
   "pygments_lexer": "ipython3",
   "version": "3.9.7"
  }
 },
 "nbformat": 4,
 "nbformat_minor": 2
}
