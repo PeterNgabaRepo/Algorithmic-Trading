{
 "cells": [
  {
   "cell_type": "markdown",
   "metadata": {},
   "source": [
    "# CMSC478 Machine Learning - Spring 2022 \n",
    "\n",
    "# Instructor: Fereydoon Vafaei\n",
    "\n",
    "### <font color=\"blue\">Assignment-2: Regression - Stock Market Prediction</font>"
   ]
  },
  {
   "cell_type": "markdown",
   "metadata": {},
   "source": [
    "Peter Ngaba\n",
    "JG77657"
   ]
  },
  {
   "cell_type": "markdown",
   "metadata": {},
   "source": [
    "## Overview and Learning Objectives"
   ]
  },
  {
   "cell_type": "markdown",
   "metadata": {},
   "source": [
    "In your second assignment, you are going to implement and train regression models. As mentioned in the lectures, regression models can predict a numeric value.\n",
    "\n",
    "The ML task in this assignment is regression, predicting the `Close` price of **Intel stock index** [**INTC**](https://www.google.com/finance/quote/INTC:NASDAQ).\n",
    "\n",
    "<b>Course Policy Reminder</b>\n",
    "Debugging the codes and error resolution are ALWAYS the students' responsbility regardless of the source or the cause of the error. This policy will be enforced in email communications and the office hours. Keep in mind that all assignments are individual graded tasks. Any collaboration with other students is strictly prohibited and is considered as cheating. Students should NOT share any answer, solution, or code with other students. Violations of these policies would be penalized according to UMBC academic integrity policy.\n",
    "\n",
    "<b>Very Important Note:</b>\n",
    "**You must run ALL cells** and get the correct outputs for all cells and give complete answers to all questions. **Cells/codes with no output get zero!** If you don't run some cells in a part, the whole part gets zero even if you write some codes in them."
   ]
  },
  {
   "cell_type": "markdown",
   "metadata": {},
   "source": [
    "Pedagogically, this assignment will help you:\n",
    "- better understand regression. \n",
    "- practice regression performance metrics.\n",
    "- practice with matplotlib and learn how to generate different plots.\n",
    "- gain experience with financial technical analysis and stock market prediction."
   ]
  },
  {
   "cell_type": "markdown",
   "metadata": {},
   "source": [
    "Wherever needed, you should replace `...` elipsis with your code.\n",
    "\n",
    "`...` may indicate one or more lines of missing codes. Some outputs are provided to you to use as reference and to verify that your output is correct. Other outputs are NOT provided intentionally."
   ]
  },
  {
   "cell_type": "markdown",
   "metadata": {},
   "source": [
    "## Import Cell"
   ]
  },
  {
   "cell_type": "markdown",
   "metadata": {},
   "source": [
    "The first thing to do is importing all necessary python and sklearn modules. **You definitely need to add to the following imports as you work on the assignment.** When you import a new module, add it here in the same cell. All imports should be in this cell."
   ]
  },
  {
   "cell_type": "code",
   "execution_count": 1,
   "metadata": {},
   "outputs": [],
   "source": [
    "# Import all necessary modules\n",
    "import seaborn as seaborn\n",
    "import matplotlib.pyplot as plt\n",
    "import datetime as dt\n",
    "from sklearn.model_selection import train_test_split\n",
    "import numpy as np\n",
    "from sklearn.metrics import mean_squared_error, mean_absolute_error, r2_score, accuracy_score\n",
    "from sklearn.linear_model import LinearRegression\n",
    "from sklearn.svm import SVR\n",
    "from xgboost import XGBRegressor\n",
    "from sklearn.model_selection import RandomizedSearchCV\n"
   ]
  },
  {
   "cell_type": "markdown",
   "metadata": {},
   "source": [
    "## Installing pandas-datareader"
   ]
  },
  {
   "cell_type": "markdown",
   "metadata": {},
   "source": [
    "You should install [pandas-datareader](https://pandas-datareader.readthedocs.io/en/latest/). In Linux, it's as easy as running the following pip command in your notebook. In other OS platforms, you may need to install it via Anaconda command prompt. **You are responsible for proper installation and resolving any issues that may arise during the installation process**."
   ]
  },
  {
   "cell_type": "code",
   "execution_count": 2,
   "metadata": {},
   "outputs": [
    {
     "name": "stdout",
     "output_type": "stream",
     "text": [
      "Requirement already satisfied: seaborn in /Users/peterngaba/opt/anaconda3/lib/python3.9/site-packages (0.11.2)\n",
      "Requirement already satisfied: numpy>=1.15 in /Users/peterngaba/opt/anaconda3/lib/python3.9/site-packages (from seaborn) (1.20.3)\n",
      "Requirement already satisfied: scipy>=1.0 in /Users/peterngaba/opt/anaconda3/lib/python3.9/site-packages (from seaborn) (1.7.1)\n",
      "Requirement already satisfied: matplotlib>=2.2 in /Users/peterngaba/opt/anaconda3/lib/python3.9/site-packages (from seaborn) (3.4.3)\n",
      "Requirement already satisfied: pandas>=0.23 in /Users/peterngaba/opt/anaconda3/lib/python3.9/site-packages (from seaborn) (1.3.4)\n",
      "Requirement already satisfied: pyparsing>=2.2.1 in /Users/peterngaba/opt/anaconda3/lib/python3.9/site-packages (from matplotlib>=2.2->seaborn) (3.0.4)\n",
      "Requirement already satisfied: python-dateutil>=2.7 in /Users/peterngaba/opt/anaconda3/lib/python3.9/site-packages (from matplotlib>=2.2->seaborn) (2.8.2)\n",
      "Requirement already satisfied: pillow>=6.2.0 in /Users/peterngaba/opt/anaconda3/lib/python3.9/site-packages (from matplotlib>=2.2->seaborn) (8.4.0)\n",
      "Requirement already satisfied: kiwisolver>=1.0.1 in /Users/peterngaba/opt/anaconda3/lib/python3.9/site-packages (from matplotlib>=2.2->seaborn) (1.3.1)\n",
      "Requirement already satisfied: cycler>=0.10 in /Users/peterngaba/opt/anaconda3/lib/python3.9/site-packages (from matplotlib>=2.2->seaborn) (0.10.0)\n",
      "Requirement already satisfied: six in /Users/peterngaba/opt/anaconda3/lib/python3.9/site-packages (from cycler>=0.10->matplotlib>=2.2->seaborn) (1.16.0)\n",
      "Requirement already satisfied: pytz>=2017.3 in /Users/peterngaba/opt/anaconda3/lib/python3.9/site-packages (from pandas>=0.23->seaborn) (2021.3)\n"
     ]
    }
   ],
   "source": [
    "#!pip install pandas-datareader\n",
    "!pip install seaborn"
   ]
  },
  {
   "cell_type": "code",
   "execution_count": 3,
   "metadata": {},
   "outputs": [],
   "source": [
    "import pandas_datareader.data as web"
   ]
  },
  {
   "cell_type": "markdown",
   "metadata": {},
   "source": [
    "## Part I - Preprocessing"
   ]
  },
  {
   "cell_type": "markdown",
   "metadata": {},
   "source": [
    "Now you can read the data live from the [web](https://pandas-datareader.readthedocs.io/en/latest/remote_data.html#stooq-index-data)."
   ]
  },
  {
   "cell_type": "code",
   "execution_count": 4,
   "metadata": {},
   "outputs": [
    {
     "data": {
      "text/html": [
       "<div>\n",
       "<style scoped>\n",
       "    .dataframe tbody tr th:only-of-type {\n",
       "        vertical-align: middle;\n",
       "    }\n",
       "\n",
       "    .dataframe tbody tr th {\n",
       "        vertical-align: top;\n",
       "    }\n",
       "\n",
       "    .dataframe thead th {\n",
       "        text-align: right;\n",
       "    }\n",
       "</style>\n",
       "<table border=\"1\" class=\"dataframe\">\n",
       "  <thead>\n",
       "    <tr style=\"text-align: right;\">\n",
       "      <th></th>\n",
       "      <th>Open</th>\n",
       "      <th>High</th>\n",
       "      <th>Low</th>\n",
       "      <th>Close</th>\n",
       "      <th>Volume</th>\n",
       "    </tr>\n",
       "    <tr>\n",
       "      <th>Date</th>\n",
       "      <th></th>\n",
       "      <th></th>\n",
       "      <th></th>\n",
       "      <th></th>\n",
       "      <th></th>\n",
       "    </tr>\n",
       "  </thead>\n",
       "  <tbody>\n",
       "    <tr>\n",
       "      <th>2022-03-18</th>\n",
       "      <td>4407.34</td>\n",
       "      <td>4465.40</td>\n",
       "      <td>4390.57</td>\n",
       "      <td>4463.12</td>\n",
       "      <td>4234104352</td>\n",
       "    </tr>\n",
       "    <tr>\n",
       "      <th>2022-03-17</th>\n",
       "      <td>4345.11</td>\n",
       "      <td>4412.67</td>\n",
       "      <td>4335.65</td>\n",
       "      <td>4411.67</td>\n",
       "      <td>2435098356</td>\n",
       "    </tr>\n",
       "    <tr>\n",
       "      <th>2022-03-16</th>\n",
       "      <td>4288.14</td>\n",
       "      <td>4358.90</td>\n",
       "      <td>4251.99</td>\n",
       "      <td>4357.86</td>\n",
       "      <td>2922879968</td>\n",
       "    </tr>\n",
       "    <tr>\n",
       "      <th>2022-03-15</th>\n",
       "      <td>4188.82</td>\n",
       "      <td>4271.05</td>\n",
       "      <td>4187.90</td>\n",
       "      <td>4262.45</td>\n",
       "      <td>2630767161</td>\n",
       "    </tr>\n",
       "    <tr>\n",
       "      <th>2022-03-14</th>\n",
       "      <td>4202.75</td>\n",
       "      <td>4247.57</td>\n",
       "      <td>4161.72</td>\n",
       "      <td>4173.11</td>\n",
       "      <td>2714056407</td>\n",
       "    </tr>\n",
       "    <tr>\n",
       "      <th>2022-03-11</th>\n",
       "      <td>4279.50</td>\n",
       "      <td>4291.01</td>\n",
       "      <td>4200.49</td>\n",
       "      <td>4204.31</td>\n",
       "      <td>2335196408</td>\n",
       "    </tr>\n",
       "    <tr>\n",
       "      <th>2022-03-10</th>\n",
       "      <td>4252.55</td>\n",
       "      <td>4268.28</td>\n",
       "      <td>4209.80</td>\n",
       "      <td>4259.52</td>\n",
       "      <td>2583441996</td>\n",
       "    </tr>\n",
       "    <tr>\n",
       "      <th>2022-03-09</th>\n",
       "      <td>4223.10</td>\n",
       "      <td>4299.40</td>\n",
       "      <td>4223.10</td>\n",
       "      <td>4277.88</td>\n",
       "      <td>3018723346</td>\n",
       "    </tr>\n",
       "    <tr>\n",
       "      <th>2022-03-08</th>\n",
       "      <td>4202.66</td>\n",
       "      <td>4276.94</td>\n",
       "      <td>4157.87</td>\n",
       "      <td>4170.70</td>\n",
       "      <td>3636375797</td>\n",
       "    </tr>\n",
       "    <tr>\n",
       "      <th>2022-03-07</th>\n",
       "      <td>4327.01</td>\n",
       "      <td>4327.01</td>\n",
       "      <td>4199.85</td>\n",
       "      <td>4201.09</td>\n",
       "      <td>3509191905</td>\n",
       "    </tr>\n",
       "  </tbody>\n",
       "</table>\n",
       "</div>"
      ],
      "text/plain": [
       "               Open     High      Low    Close      Volume\n",
       "Date                                                      \n",
       "2022-03-18  4407.34  4465.40  4390.57  4463.12  4234104352\n",
       "2022-03-17  4345.11  4412.67  4335.65  4411.67  2435098356\n",
       "2022-03-16  4288.14  4358.90  4251.99  4357.86  2922879968\n",
       "2022-03-15  4188.82  4271.05  4187.90  4262.45  2630767161\n",
       "2022-03-14  4202.75  4247.57  4161.72  4173.11  2714056407\n",
       "2022-03-11  4279.50  4291.01  4200.49  4204.31  2335196408\n",
       "2022-03-10  4252.55  4268.28  4209.80  4259.52  2583441996\n",
       "2022-03-09  4223.10  4299.40  4223.10  4277.88  3018723346\n",
       "2022-03-08  4202.66  4276.94  4157.87  4170.70  3636375797\n",
       "2022-03-07  4327.01  4327.01  4199.85  4201.09  3509191905"
      ]
     },
     "execution_count": 4,
     "metadata": {},
     "output_type": "execute_result"
    }
   ],
   "source": [
    "df = web.DataReader('^SPX', 'stooq', start='2000-01-01', end='2022-03-18')\n",
    "df.head(10)"
   ]
  },
  {
   "cell_type": "markdown",
   "metadata": {},
   "source": [
    "> To make all submissions consistent, do NOT change the dates, source and stock index."
   ]
  },
  {
   "cell_type": "markdown",
   "metadata": {},
   "source": [
    "> The data is already very clean; however, you should always try to get some insights initially."
   ]
  },
  {
   "cell_type": "code",
   "execution_count": 5,
   "metadata": {},
   "outputs": [
    {
     "data": {
      "text/html": [
       "<div>\n",
       "<style scoped>\n",
       "    .dataframe tbody tr th:only-of-type {\n",
       "        vertical-align: middle;\n",
       "    }\n",
       "\n",
       "    .dataframe tbody tr th {\n",
       "        vertical-align: top;\n",
       "    }\n",
       "\n",
       "    .dataframe thead th {\n",
       "        text-align: right;\n",
       "    }\n",
       "</style>\n",
       "<table border=\"1\" class=\"dataframe\">\n",
       "  <thead>\n",
       "    <tr style=\"text-align: right;\">\n",
       "      <th></th>\n",
       "      <th>Open</th>\n",
       "      <th>High</th>\n",
       "      <th>Low</th>\n",
       "      <th>Close</th>\n",
       "      <th>Volume</th>\n",
       "    </tr>\n",
       "  </thead>\n",
       "  <tbody>\n",
       "    <tr>\n",
       "      <th>count</th>\n",
       "      <td>5589.000000</td>\n",
       "      <td>5589.000000</td>\n",
       "      <td>5589.000000</td>\n",
       "      <td>5589.000000</td>\n",
       "      <td>5.589000e+03</td>\n",
       "    </tr>\n",
       "    <tr>\n",
       "      <th>mean</th>\n",
       "      <td>1798.098202</td>\n",
       "      <td>1808.453546</td>\n",
       "      <td>1786.838971</td>\n",
       "      <td>1798.313841</td>\n",
       "      <td>1.796198e+09</td>\n",
       "    </tr>\n",
       "    <tr>\n",
       "      <th>std</th>\n",
       "      <td>892.399058</td>\n",
       "      <td>896.085242</td>\n",
       "      <td>888.435359</td>\n",
       "      <td>892.616863</td>\n",
       "      <td>8.396503e+08</td>\n",
       "    </tr>\n",
       "    <tr>\n",
       "      <th>min</th>\n",
       "      <td>676.530000</td>\n",
       "      <td>695.270000</td>\n",
       "      <td>666.790000</td>\n",
       "      <td>676.530000</td>\n",
       "      <td>1.978167e+08</td>\n",
       "    </tr>\n",
       "    <tr>\n",
       "      <th>25%</th>\n",
       "      <td>1176.630000</td>\n",
       "      <td>1184.050000</td>\n",
       "      <td>1168.200000</td>\n",
       "      <td>1176.800000</td>\n",
       "      <td>1.046506e+09</td>\n",
       "    </tr>\n",
       "    <tr>\n",
       "      <th>50%</th>\n",
       "      <td>1412.200000</td>\n",
       "      <td>1419.560000</td>\n",
       "      <td>1404.150000</td>\n",
       "      <td>1412.140000</td>\n",
       "      <td>1.851694e+09</td>\n",
       "    </tr>\n",
       "    <tr>\n",
       "      <th>75%</th>\n",
       "      <td>2157.880000</td>\n",
       "      <td>2164.410000</td>\n",
       "      <td>2145.200000</td>\n",
       "      <td>2159.040000</td>\n",
       "      <td>2.260228e+09</td>\n",
       "    </tr>\n",
       "    <tr>\n",
       "      <th>max</th>\n",
       "      <td>4804.510000</td>\n",
       "      <td>4818.620000</td>\n",
       "      <td>4780.040000</td>\n",
       "      <td>4796.560000</td>\n",
       "      <td>6.364572e+09</td>\n",
       "    </tr>\n",
       "  </tbody>\n",
       "</table>\n",
       "</div>"
      ],
      "text/plain": [
       "              Open         High          Low        Close        Volume\n",
       "count  5589.000000  5589.000000  5589.000000  5589.000000  5.589000e+03\n",
       "mean   1798.098202  1808.453546  1786.838971  1798.313841  1.796198e+09\n",
       "std     892.399058   896.085242   888.435359   892.616863  8.396503e+08\n",
       "min     676.530000   695.270000   666.790000   676.530000  1.978167e+08\n",
       "25%    1176.630000  1184.050000  1168.200000  1176.800000  1.046506e+09\n",
       "50%    1412.200000  1419.560000  1404.150000  1412.140000  1.851694e+09\n",
       "75%    2157.880000  2164.410000  2145.200000  2159.040000  2.260228e+09\n",
       "max    4804.510000  4818.620000  4780.040000  4796.560000  6.364572e+09"
      ]
     },
     "execution_count": 5,
     "metadata": {},
     "output_type": "execute_result"
    }
   ],
   "source": [
    "df.reset_index(inplace=True)\n",
    "df.describe()"
   ]
  },
  {
   "cell_type": "markdown",
   "metadata": {},
   "source": [
    "> One of the techniques to get more insights about the data before training the regression model is correlation analysis. Correlation analysis tells you which columns are correlated. Pandas dataframe has [`.corr()`](https://pandas.pydata.org/pandas-docs/stable/reference/api/pandas.DataFrame.corr.html) method to caclulate the correlations."
   ]
  },
  {
   "cell_type": "code",
   "execution_count": 6,
   "metadata": {},
   "outputs": [
    {
     "data": {
      "text/html": [
       "<div>\n",
       "<style scoped>\n",
       "    .dataframe tbody tr th:only-of-type {\n",
       "        vertical-align: middle;\n",
       "    }\n",
       "\n",
       "    .dataframe tbody tr th {\n",
       "        vertical-align: top;\n",
       "    }\n",
       "\n",
       "    .dataframe thead th {\n",
       "        text-align: right;\n",
       "    }\n",
       "</style>\n",
       "<table border=\"1\" class=\"dataframe\">\n",
       "  <thead>\n",
       "    <tr style=\"text-align: right;\">\n",
       "      <th></th>\n",
       "      <th>Open</th>\n",
       "      <th>High</th>\n",
       "      <th>Low</th>\n",
       "      <th>Close</th>\n",
       "      <th>Volume</th>\n",
       "    </tr>\n",
       "  </thead>\n",
       "  <tbody>\n",
       "    <tr>\n",
       "      <th>Open</th>\n",
       "      <td>1.000000</td>\n",
       "      <td>0.999914</td>\n",
       "      <td>0.999868</td>\n",
       "      <td>0.999781</td>\n",
       "      <td>0.281883</td>\n",
       "    </tr>\n",
       "    <tr>\n",
       "      <th>High</th>\n",
       "      <td>0.999914</td>\n",
       "      <td>1.000000</td>\n",
       "      <td>0.999820</td>\n",
       "      <td>0.999881</td>\n",
       "      <td>0.284500</td>\n",
       "    </tr>\n",
       "    <tr>\n",
       "      <th>Low</th>\n",
       "      <td>0.999868</td>\n",
       "      <td>0.999820</td>\n",
       "      <td>1.000000</td>\n",
       "      <td>0.999891</td>\n",
       "      <td>0.277637</td>\n",
       "    </tr>\n",
       "    <tr>\n",
       "      <th>Close</th>\n",
       "      <td>0.999781</td>\n",
       "      <td>0.999881</td>\n",
       "      <td>0.999891</td>\n",
       "      <td>1.000000</td>\n",
       "      <td>0.280951</td>\n",
       "    </tr>\n",
       "    <tr>\n",
       "      <th>Volume</th>\n",
       "      <td>0.281883</td>\n",
       "      <td>0.284500</td>\n",
       "      <td>0.277637</td>\n",
       "      <td>0.280951</td>\n",
       "      <td>1.000000</td>\n",
       "    </tr>\n",
       "  </tbody>\n",
       "</table>\n",
       "</div>"
      ],
      "text/plain": [
       "            Open      High       Low     Close    Volume\n",
       "Open    1.000000  0.999914  0.999868  0.999781  0.281883\n",
       "High    0.999914  1.000000  0.999820  0.999881  0.284500\n",
       "Low     0.999868  0.999820  1.000000  0.999891  0.277637\n",
       "Close   0.999781  0.999881  0.999891  1.000000  0.280951\n",
       "Volume  0.281883  0.284500  0.277637  0.280951  1.000000"
      ]
     },
     "execution_count": 6,
     "metadata": {},
     "output_type": "execute_result"
    }
   ],
   "source": [
    "corr = df.corr(method='pearson')\n",
    "corr"
   ]
  },
  {
   "cell_type": "markdown",
   "metadata": {},
   "source": [
    "> You can also visualize the correlations using [seaborn](https://seaborn.pydata.org/installing.html) heatmaps. You should install it if you don't have it, and then you should import it."
   ]
  },
  {
   "cell_type": "code",
   "execution_count": 7,
   "metadata": {},
   "outputs": [
    {
     "data": {
      "text/plain": [
       "<AxesSubplot:>"
      ]
     },
     "execution_count": 7,
     "metadata": {},
     "output_type": "execute_result"
    },
    {
     "data": {
      "image/png": "[encoded data removed]",
      "text/plain": [
       "<Figure size 432x288 with 2 Axes>"
      ]
     },
     "metadata": {
      "needs_background": "light"
     },
     "output_type": "display_data"
    }
   ],
   "source": [
    "seaborn.heatmap(corr, xticklabels=corr.columns, yticklabels=corr.columns, cmap='RdBu_r', annot=True, linewidth=0.5)"
   ]
  },
  {
   "cell_type": "markdown",
   "metadata": {},
   "source": [
    "> Next, drop `Volume`."
   ]
  },
  {
   "cell_type": "code",
   "execution_count": 8,
   "metadata": {},
   "outputs": [
    {
     "data": {
      "text/html": [
       "<div>\n",
       "<style scoped>\n",
       "    .dataframe tbody tr th:only-of-type {\n",
       "        vertical-align: middle;\n",
       "    }\n",
       "\n",
       "    .dataframe tbody tr th {\n",
       "        vertical-align: top;\n",
       "    }\n",
       "\n",
       "    .dataframe thead th {\n",
       "        text-align: right;\n",
       "    }\n",
       "</style>\n",
       "<table border=\"1\" class=\"dataframe\">\n",
       "  <thead>\n",
       "    <tr style=\"text-align: right;\">\n",
       "      <th></th>\n",
       "      <th>Date</th>\n",
       "      <th>Open</th>\n",
       "      <th>High</th>\n",
       "      <th>Low</th>\n",
       "      <th>Close</th>\n",
       "    </tr>\n",
       "  </thead>\n",
       "  <tbody>\n",
       "    <tr>\n",
       "      <th>0</th>\n",
       "      <td>2022-03-18</td>\n",
       "      <td>4407.34</td>\n",
       "      <td>4465.40</td>\n",
       "      <td>4390.57</td>\n",
       "      <td>4463.12</td>\n",
       "    </tr>\n",
       "    <tr>\n",
       "      <th>1</th>\n",
       "      <td>2022-03-17</td>\n",
       "      <td>4345.11</td>\n",
       "      <td>4412.67</td>\n",
       "      <td>4335.65</td>\n",
       "      <td>4411.67</td>\n",
       "    </tr>\n",
       "    <tr>\n",
       "      <th>2</th>\n",
       "      <td>2022-03-16</td>\n",
       "      <td>4288.14</td>\n",
       "      <td>4358.90</td>\n",
       "      <td>4251.99</td>\n",
       "      <td>4357.86</td>\n",
       "    </tr>\n",
       "    <tr>\n",
       "      <th>3</th>\n",
       "      <td>2022-03-15</td>\n",
       "      <td>4188.82</td>\n",
       "      <td>4271.05</td>\n",
       "      <td>4187.90</td>\n",
       "      <td>4262.45</td>\n",
       "    </tr>\n",
       "    <tr>\n",
       "      <th>4</th>\n",
       "      <td>2022-03-14</td>\n",
       "      <td>4202.75</td>\n",
       "      <td>4247.57</td>\n",
       "      <td>4161.72</td>\n",
       "      <td>4173.11</td>\n",
       "    </tr>\n",
       "    <tr>\n",
       "      <th>5</th>\n",
       "      <td>2022-03-11</td>\n",
       "      <td>4279.50</td>\n",
       "      <td>4291.01</td>\n",
       "      <td>4200.49</td>\n",
       "      <td>4204.31</td>\n",
       "    </tr>\n",
       "    <tr>\n",
       "      <th>6</th>\n",
       "      <td>2022-03-10</td>\n",
       "      <td>4252.55</td>\n",
       "      <td>4268.28</td>\n",
       "      <td>4209.80</td>\n",
       "      <td>4259.52</td>\n",
       "    </tr>\n",
       "    <tr>\n",
       "      <th>7</th>\n",
       "      <td>2022-03-09</td>\n",
       "      <td>4223.10</td>\n",
       "      <td>4299.40</td>\n",
       "      <td>4223.10</td>\n",
       "      <td>4277.88</td>\n",
       "    </tr>\n",
       "    <tr>\n",
       "      <th>8</th>\n",
       "      <td>2022-03-08</td>\n",
       "      <td>4202.66</td>\n",
       "      <td>4276.94</td>\n",
       "      <td>4157.87</td>\n",
       "      <td>4170.70</td>\n",
       "    </tr>\n",
       "    <tr>\n",
       "      <th>9</th>\n",
       "      <td>2022-03-07</td>\n",
       "      <td>4327.01</td>\n",
       "      <td>4327.01</td>\n",
       "      <td>4199.85</td>\n",
       "      <td>4201.09</td>\n",
       "    </tr>\n",
       "  </tbody>\n",
       "</table>\n",
       "</div>"
      ],
      "text/plain": [
       "        Date     Open     High      Low    Close\n",
       "0 2022-03-18  4407.34  4465.40  4390.57  4463.12\n",
       "1 2022-03-17  4345.11  4412.67  4335.65  4411.67\n",
       "2 2022-03-16  4288.14  4358.90  4251.99  4357.86\n",
       "3 2022-03-15  4188.82  4271.05  4187.90  4262.45\n",
       "4 2022-03-14  4202.75  4247.57  4161.72  4173.11\n",
       "5 2022-03-11  4279.50  4291.01  4200.49  4204.31\n",
       "6 2022-03-10  4252.55  4268.28  4209.80  4259.52\n",
       "7 2022-03-09  4223.10  4299.40  4223.10  4277.88\n",
       "8 2022-03-08  4202.66  4276.94  4157.87  4170.70\n",
       "9 2022-03-07  4327.01  4327.01  4199.85  4201.09"
      ]
     },
     "execution_count": 8,
     "metadata": {},
     "output_type": "execute_result"
    }
   ],
   "source": [
    "# Drop Volume\n",
    "df = df.drop(columns = ['Volume'])\n",
    "\n",
    "df.head(10)"
   ]
  },
  {
   "cell_type": "markdown",
   "metadata": {},
   "source": [
    "> Next, you should create the exact same plot as given below. EVERYTHING should look exactly the same as this plot. The specifications are as follows:\n",
    "> - `figsize` should be (16,8)\n",
    "> - `fontsize` for title should be 18 and for the axis labels should be 16.\n",
    "> - You should use a [`seaborn`](https://matplotlib.org/stable/gallery/style_sheets/style_sheets_reference.html) style with the grid displayed in the background and everything else should look the same. \n",
    "> - Your plot must have the same title and axis labels.\n",
    "> - You can see [matplotlib documentation](https://matplotlib.org/stable/api/_as_gen/matplotlib.pyplot.plot.html) to learn how to change specifications."
   ]
  },
  {
   "cell_type": "code",
   "execution_count": 9,
   "metadata": {},
   "outputs": [
    {
     "name": "stdout",
     "output_type": "stream",
     "text": [
      "Text(0, 0.5, 'SPX500 Close Price (USD)') \n"
     ]
    },
    {
     "data": {
      "image/png": "[encoded data removed]",
      "text/plain": [
       "<Figure size 1152x576 with 1 Axes>"
      ]
     },
     "metadata": {},
     "output_type": "display_data"
    }
   ],
   "source": [
    "'''[10 points] Incomplete/incorrect plots get zero\n",
    "Generate the following plot. It should be EXACTLY the same!\n",
    "'''\n",
    "\n",
    "\n",
    "seaborn.set_theme()\n",
    "plt.figure(figsize = (16,8))\n",
    "\n",
    "plt.title(\"SPX500 Stock Close Price History 2000 - 2022\", fontsize = 18)\n",
    "plt.xlabel(\"Date\", fontsize = 16)\n",
    "plt.ylabel(\"SPX500 Close Price (USD)\", fontsize = 16)\n",
    "print('Text(0, 0.5, \\'SPX500 Close Price (USD)\\') ')\n",
    "plt.plot(df['Date'], df['Close'], \"green\", linewidth = \"2\")\n",
    "plt.show()"
   ]
  },
  {
   "cell_type": "markdown",
   "metadata": {},
   "source": [
    "> Next, you should decompose `Date` to `Year`, `Month`, and `Day`."
   ]
  },
  {
   "cell_type": "code",
   "execution_count": 10,
   "metadata": {},
   "outputs": [],
   "source": [
    "df['Year'] = df['Date'].dt.year\n",
    "df['Month'] = df['Date'].dt.month\n",
    "df['Day'] = df['Date'].dt.day\n"
   ]
  },
  {
   "cell_type": "markdown",
   "metadata": {},
   "source": [
    "> Now choose the following columns from `df` in the same order as below:"
   ]
  },
  {
   "cell_type": "code",
   "execution_count": 11,
   "metadata": {},
   "outputs": [
    {
     "data": {
      "text/html": [
       "<div>\n",
       "<style scoped>\n",
       "    .dataframe tbody tr th:only-of-type {\n",
       "        vertical-align: middle;\n",
       "    }\n",
       "\n",
       "    .dataframe tbody tr th {\n",
       "        vertical-align: top;\n",
       "    }\n",
       "\n",
       "    .dataframe thead th {\n",
       "        text-align: right;\n",
       "    }\n",
       "</style>\n",
       "<table border=\"1\" class=\"dataframe\">\n",
       "  <thead>\n",
       "    <tr style=\"text-align: right;\">\n",
       "      <th></th>\n",
       "      <th>Day</th>\n",
       "      <th>Month</th>\n",
       "      <th>Year</th>\n",
       "      <th>High</th>\n",
       "      <th>Open</th>\n",
       "      <th>Low</th>\n",
       "      <th>Close</th>\n",
       "    </tr>\n",
       "  </thead>\n",
       "  <tbody>\n",
       "    <tr>\n",
       "      <th>5534</th>\n",
       "      <td>21</td>\n",
       "      <td>3</td>\n",
       "      <td>2000</td>\n",
       "      <td>1493.95</td>\n",
       "      <td>1456.63</td>\n",
       "      <td>1446.08</td>\n",
       "      <td>1493.87</td>\n",
       "    </tr>\n",
       "    <tr>\n",
       "      <th>5539</th>\n",
       "      <td>14</td>\n",
       "      <td>3</td>\n",
       "      <td>2000</td>\n",
       "      <td>1395.33</td>\n",
       "      <td>1388.88</td>\n",
       "      <td>1359.15</td>\n",
       "      <td>1359.15</td>\n",
       "    </tr>\n",
       "    <tr>\n",
       "      <th>5544</th>\n",
       "      <td>7</td>\n",
       "      <td>3</td>\n",
       "      <td>2000</td>\n",
       "      <td>1399.48</td>\n",
       "      <td>1397.27</td>\n",
       "      <td>1349.58</td>\n",
       "      <td>1355.62</td>\n",
       "    </tr>\n",
       "    <tr>\n",
       "      <th>5550</th>\n",
       "      <td>28</td>\n",
       "      <td>2</td>\n",
       "      <td>2000</td>\n",
       "      <td>1360.82</td>\n",
       "      <td>1331.14</td>\n",
       "      <td>1325.02</td>\n",
       "      <td>1348.05</td>\n",
       "    </tr>\n",
       "    <tr>\n",
       "      <th>5559</th>\n",
       "      <td>14</td>\n",
       "      <td>2</td>\n",
       "      <td>2000</td>\n",
       "      <td>1394.56</td>\n",
       "      <td>1389.92</td>\n",
       "      <td>1380.66</td>\n",
       "      <td>1389.94</td>\n",
       "    </tr>\n",
       "    <tr>\n",
       "      <th>5564</th>\n",
       "      <td>7</td>\n",
       "      <td>2</td>\n",
       "      <td>2000</td>\n",
       "      <td>1427.23</td>\n",
       "      <td>1423.78</td>\n",
       "      <td>1413.33</td>\n",
       "      <td>1424.24</td>\n",
       "    </tr>\n",
       "    <tr>\n",
       "      <th>5570</th>\n",
       "      <td>28</td>\n",
       "      <td>1</td>\n",
       "      <td>2000</td>\n",
       "      <td>1398.56</td>\n",
       "      <td>1398.26</td>\n",
       "      <td>1356.14</td>\n",
       "      <td>1360.16</td>\n",
       "    </tr>\n",
       "    <tr>\n",
       "      <th>5575</th>\n",
       "      <td>21</td>\n",
       "      <td>1</td>\n",
       "      <td>2000</td>\n",
       "      <td>1452.75</td>\n",
       "      <td>1449.36</td>\n",
       "      <td>1439.54</td>\n",
       "      <td>1441.36</td>\n",
       "    </tr>\n",
       "    <tr>\n",
       "      <th>5579</th>\n",
       "      <td>14</td>\n",
       "      <td>1</td>\n",
       "      <td>2000</td>\n",
       "      <td>1473.09</td>\n",
       "      <td>1457.04</td>\n",
       "      <td>1457.04</td>\n",
       "      <td>1465.20</td>\n",
       "    </tr>\n",
       "    <tr>\n",
       "      <th>5584</th>\n",
       "      <td>7</td>\n",
       "      <td>1</td>\n",
       "      <td>2000</td>\n",
       "      <td>1441.47</td>\n",
       "      <td>1401.03</td>\n",
       "      <td>1400.53</td>\n",
       "      <td>1441.47</td>\n",
       "    </tr>\n",
       "  </tbody>\n",
       "</table>\n",
       "</div>"
      ],
      "text/plain": [
       "      Day  Month  Year     High     Open      Low    Close\n",
       "5534   21      3  2000  1493.95  1456.63  1446.08  1493.87\n",
       "5539   14      3  2000  1395.33  1388.88  1359.15  1359.15\n",
       "5544    7      3  2000  1399.48  1397.27  1349.58  1355.62\n",
       "5550   28      2  2000  1360.82  1331.14  1325.02  1348.05\n",
       "5559   14      2  2000  1394.56  1389.92  1380.66  1389.94\n",
       "5564    7      2  2000  1427.23  1423.78  1413.33  1424.24\n",
       "5570   28      1  2000  1398.56  1398.26  1356.14  1360.16\n",
       "5575   21      1  2000  1452.75  1449.36  1439.54  1441.36\n",
       "5579   14      1  2000  1473.09  1457.04  1457.04  1465.20\n",
       "5584    7      1  2000  1441.47  1401.03  1400.53  1441.47"
      ]
     },
     "execution_count": 11,
     "metadata": {},
     "output_type": "execute_result"
    }
   ],
   "source": [
    "\n",
    "\n",
    "intc = df[(df[\"Day\"] % 7 == 0)]\n",
    "intc = intc[[\"Day\", \"Month\", \"Year\", \"High\", \"Open\", \"Low\", \"Close\"]]\n",
    "intc.tail(10)"
   ]
  },
  {
   "cell_type": "markdown",
   "metadata": {},
   "source": [
    "> Next separate the independent variables (features) from the dependent variable (target column) which is `Close`. So your `X` should contain all columns in `intc` except `Close` and `y` should include `Close` only."
   ]
  },
  {
   "cell_type": "code",
   "execution_count": 12,
   "metadata": {},
   "outputs": [],
   "source": [
    "# Separate features from the target\n",
    "X = intc.iloc[:742, 0: ]\n",
    "y = intc.iloc[1:, 6 ]"
   ]
  },
  {
   "cell_type": "code",
   "execution_count": 13,
   "metadata": {},
   "outputs": [
    {
     "name": "stdout",
     "output_type": "stream",
     "text": [
      "(742, 7)\n",
      "(742,)\n"
     ]
    }
   ],
   "source": [
    "print(X.shape)\n",
    "print(y.shape)"
   ]
  },
  {
   "cell_type": "markdown",
   "metadata": {},
   "source": [
    "> **Important Note**: Double-check and make sure that `X` and `y` do NOT have anything in common; otherwise your whole work will be wrong and you'll get zero!"
   ]
  },
  {
   "cell_type": "code",
   "execution_count": 14,
   "metadata": {},
   "outputs": [
    {
     "data": {
      "text/html": [
       "<div>\n",
       "<style scoped>\n",
       "    .dataframe tbody tr th:only-of-type {\n",
       "        vertical-align: middle;\n",
       "    }\n",
       "\n",
       "    .dataframe tbody tr th {\n",
       "        vertical-align: top;\n",
       "    }\n",
       "\n",
       "    .dataframe thead th {\n",
       "        text-align: right;\n",
       "    }\n",
       "</style>\n",
       "<table border=\"1\" class=\"dataframe\">\n",
       "  <thead>\n",
       "    <tr style=\"text-align: right;\">\n",
       "      <th></th>\n",
       "      <th>Day</th>\n",
       "      <th>Month</th>\n",
       "      <th>Year</th>\n",
       "      <th>High</th>\n",
       "      <th>Open</th>\n",
       "      <th>Low</th>\n",
       "      <th>Close</th>\n",
       "    </tr>\n",
       "  </thead>\n",
       "  <tbody>\n",
       "    <tr>\n",
       "      <th>4</th>\n",
       "      <td>14</td>\n",
       "      <td>3</td>\n",
       "      <td>2022</td>\n",
       "      <td>4247.57</td>\n",
       "      <td>4202.75</td>\n",
       "      <td>4161.72</td>\n",
       "      <td>4173.11</td>\n",
       "    </tr>\n",
       "    <tr>\n",
       "      <th>9</th>\n",
       "      <td>7</td>\n",
       "      <td>3</td>\n",
       "      <td>2022</td>\n",
       "      <td>4327.01</td>\n",
       "      <td>4327.01</td>\n",
       "      <td>4199.85</td>\n",
       "      <td>4201.09</td>\n",
       "    </tr>\n",
       "    <tr>\n",
       "      <th>14</th>\n",
       "      <td>28</td>\n",
       "      <td>2</td>\n",
       "      <td>2022</td>\n",
       "      <td>4388.84</td>\n",
       "      <td>4354.17</td>\n",
       "      <td>4315.12</td>\n",
       "      <td>4373.94</td>\n",
       "    </tr>\n",
       "    <tr>\n",
       "      <th>23</th>\n",
       "      <td>14</td>\n",
       "      <td>2</td>\n",
       "      <td>2022</td>\n",
       "      <td>4426.22</td>\n",
       "      <td>4412.61</td>\n",
       "      <td>4364.84</td>\n",
       "      <td>4401.67</td>\n",
       "    </tr>\n",
       "    <tr>\n",
       "      <th>28</th>\n",
       "      <td>7</td>\n",
       "      <td>2</td>\n",
       "      <td>2022</td>\n",
       "      <td>4521.86</td>\n",
       "      <td>4505.75</td>\n",
       "      <td>4471.47</td>\n",
       "      <td>4483.87</td>\n",
       "    </tr>\n",
       "    <tr>\n",
       "      <th>...</th>\n",
       "      <td>...</td>\n",
       "      <td>...</td>\n",
       "      <td>...</td>\n",
       "      <td>...</td>\n",
       "      <td>...</td>\n",
       "      <td>...</td>\n",
       "      <td>...</td>\n",
       "    </tr>\n",
       "    <tr>\n",
       "      <th>5559</th>\n",
       "      <td>14</td>\n",
       "      <td>2</td>\n",
       "      <td>2000</td>\n",
       "      <td>1394.56</td>\n",
       "      <td>1389.92</td>\n",
       "      <td>1380.66</td>\n",
       "      <td>1389.94</td>\n",
       "    </tr>\n",
       "    <tr>\n",
       "      <th>5564</th>\n",
       "      <td>7</td>\n",
       "      <td>2</td>\n",
       "      <td>2000</td>\n",
       "      <td>1427.23</td>\n",
       "      <td>1423.78</td>\n",
       "      <td>1413.33</td>\n",
       "      <td>1424.24</td>\n",
       "    </tr>\n",
       "    <tr>\n",
       "      <th>5570</th>\n",
       "      <td>28</td>\n",
       "      <td>1</td>\n",
       "      <td>2000</td>\n",
       "      <td>1398.56</td>\n",
       "      <td>1398.26</td>\n",
       "      <td>1356.14</td>\n",
       "      <td>1360.16</td>\n",
       "    </tr>\n",
       "    <tr>\n",
       "      <th>5575</th>\n",
       "      <td>21</td>\n",
       "      <td>1</td>\n",
       "      <td>2000</td>\n",
       "      <td>1452.75</td>\n",
       "      <td>1449.36</td>\n",
       "      <td>1439.54</td>\n",
       "      <td>1441.36</td>\n",
       "    </tr>\n",
       "    <tr>\n",
       "      <th>5579</th>\n",
       "      <td>14</td>\n",
       "      <td>1</td>\n",
       "      <td>2000</td>\n",
       "      <td>1473.09</td>\n",
       "      <td>1457.04</td>\n",
       "      <td>1457.04</td>\n",
       "      <td>1465.20</td>\n",
       "    </tr>\n",
       "  </tbody>\n",
       "</table>\n",
       "<p>742 rows × 7 columns</p>\n",
       "</div>"
      ],
      "text/plain": [
       "      Day  Month  Year     High     Open      Low    Close\n",
       "4      14      3  2022  4247.57  4202.75  4161.72  4173.11\n",
       "9       7      3  2022  4327.01  4327.01  4199.85  4201.09\n",
       "14     28      2  2022  4388.84  4354.17  4315.12  4373.94\n",
       "23     14      2  2022  4426.22  4412.61  4364.84  4401.67\n",
       "28      7      2  2022  4521.86  4505.75  4471.47  4483.87\n",
       "...   ...    ...   ...      ...      ...      ...      ...\n",
       "5559   14      2  2000  1394.56  1389.92  1380.66  1389.94\n",
       "5564    7      2  2000  1427.23  1423.78  1413.33  1424.24\n",
       "5570   28      1  2000  1398.56  1398.26  1356.14  1360.16\n",
       "5575   21      1  2000  1452.75  1449.36  1439.54  1441.36\n",
       "5579   14      1  2000  1473.09  1457.04  1457.04  1465.20\n",
       "\n",
       "[742 rows x 7 columns]"
      ]
     },
     "execution_count": 14,
     "metadata": {},
     "output_type": "execute_result"
    }
   ],
   "source": [
    "X"
   ]
  },
  {
   "cell_type": "code",
   "execution_count": 15,
   "metadata": {},
   "outputs": [
    {
     "data": {
      "text/plain": [
       "9       4201.09\n",
       "14      4373.94\n",
       "23      4401.67\n",
       "28      4483.87\n",
       "34      4431.85\n",
       "         ...   \n",
       "5564    1424.24\n",
       "5570    1360.16\n",
       "5575    1441.36\n",
       "5579    1465.20\n",
       "5584    1441.47\n",
       "Name: Close, Length: 742, dtype: float64"
      ]
     },
     "execution_count": 15,
     "metadata": {},
     "output_type": "execute_result"
    }
   ],
   "source": [
    "y"
   ]
  },
  {
   "cell_type": "markdown",
   "metadata": {},
   "source": [
    "> As mentioned in the lectures, the data for supervised learning (both classification and regression) is split into training set and test set. We usually do this by importing [`train_test_split()`](https://scikit-learn.org/stable/modules/generated/sklearn.model_selection.train_test_split.html) module from scikit-learn.\n",
    "Split the data by a `test_size` ratio of 0.25"
   ]
  },
  {
   "cell_type": "code",
   "execution_count": 16,
   "metadata": {},
   "outputs": [
    {
     "data": {
      "text/html": [
       "<div>\n",
       "<style scoped>\n",
       "    .dataframe tbody tr th:only-of-type {\n",
       "        vertical-align: middle;\n",
       "    }\n",
       "\n",
       "    .dataframe tbody tr th {\n",
       "        vertical-align: top;\n",
       "    }\n",
       "\n",
       "    .dataframe thead th {\n",
       "        text-align: right;\n",
       "    }\n",
       "</style>\n",
       "<table border=\"1\" class=\"dataframe\">\n",
       "  <thead>\n",
       "    <tr style=\"text-align: right;\">\n",
       "      <th></th>\n",
       "      <th>Day</th>\n",
       "      <th>Month</th>\n",
       "      <th>Year</th>\n",
       "      <th>High</th>\n",
       "      <th>Open</th>\n",
       "      <th>Low</th>\n",
       "      <th>Close</th>\n",
       "    </tr>\n",
       "  </thead>\n",
       "  <tbody>\n",
       "    <tr>\n",
       "      <th>0</th>\n",
       "      <td>18</td>\n",
       "      <td>3</td>\n",
       "      <td>2022</td>\n",
       "      <td>4465.4</td>\n",
       "      <td>4407.34</td>\n",
       "      <td>4390.57</td>\n",
       "      <td>4463.12</td>\n",
       "    </tr>\n",
       "  </tbody>\n",
       "</table>\n",
       "</div>"
      ],
      "text/plain": [
       "   Day  Month  Year    High     Open      Low    Close\n",
       "0   18      3  2022  4465.4  4407.34  4390.57  4463.12"
      ]
     },
     "execution_count": 16,
     "metadata": {},
     "output_type": "execute_result"
    }
   ],
   "source": [
    "# Partition the data into train and test with a split ratio of 75/25 for train/test\n",
    "X_train, X_test, y_train, y_test = train_test_split(X, y, test_size = .25)\n",
    "X_test\n",
    "\n",
    "X_this_month = X[:1]\n",
    "\n",
    "X_this_month = web.DataReader('^SPX', 'stooq', start='2022-03-18', end='2022-03-18')\n",
    "X_this_month = X_this_month.drop(columns = ['Volume'])\n",
    "X_this_month.reset_index(inplace=True)\n",
    "\n",
    "\n",
    "X_this_month['Year'] = X_this_month['Date'].dt.year\n",
    "X_this_month['Month'] = X_this_month['Date'].dt.month\n",
    "X_this_month['Day'] = X_this_month['Date'].dt.day\n",
    "X_this_month = X_this_month[[\"Day\", \"Month\", \"Year\", \"High\", \"Open\", \"Low\", \"Close\"]]\n",
    "\n",
    "X_this_month"
   ]
  },
  {
   "cell_type": "code",
   "execution_count": 17,
   "metadata": {},
   "outputs": [
    {
     "name": "stdout",
     "output_type": "stream",
     "text": [
      "(556, 7)\n",
      "(186, 7)\n",
      "(556,)\n",
      "(186,)\n"
     ]
    }
   ],
   "source": [
    "print(X_train.shape)\n",
    "print(X_test.shape)\n",
    "print(y_train.shape)\n",
    "print(y_test.shape)"
   ]
  },
  {
   "cell_type": "markdown",
   "metadata": {},
   "source": [
    "## Part-II Linear Regression with Closed Form Solution (Least Squares)"
   ]
  },
  {
   "cell_type": "markdown",
   "metadata": {},
   "source": [
    "Now that the data is prepared, you can train and test regression models.\n",
    "\n",
    "First, you are going to use the Least Squares method using the normal equation. You can check the slides and see examples of the closed form solution (Least Squares) there. You don't have to add a column containing ones. It is fine to add ones similar to the slides/textbook example but you don't have to, you can directly get `theta_best` from `X_train` and `y_train` using normal equation.\n",
    "\n",
    "As discussed in the lectures, the normal equation is as follows:\n",
    "\n",
    "$\n",
    "\\hat{\\boldsymbol{\\theta}} = (\\mathbf{X}^T \\mathbf{X})^{-1} \\mathbf{X}^T \\mathbf{y}\n",
    "$\n",
    "\n",
    "In this normal equation:\n",
    "\n",
    "- $\\hat{\\boldsymbol{\\theta}}$ is the value of $\\theta$ that minimizes the cost function, i.e. `theta_best`.\n",
    "\n",
    "- y is the vector of target values containing $y^{(1)}$ to $y^{(m)}$, i.e. `y_train`.\n",
    "\n",
    "- $\\mathbf{X}$ is the vector of features, i.e. `X_train`."
   ]
  },
  {
   "cell_type": "code",
   "execution_count": 18,
   "metadata": {},
   "outputs": [
    {
     "data": {
      "text/plain": [
       "array([ 0.55164634, -0.25044371, -0.00507181,  1.74071643,  0.45157164,\n",
       "       -0.91204993, -0.29658349])"
      ]
     },
     "execution_count": 18,
     "metadata": {},
     "output_type": "execute_result"
    }
   ],
   "source": [
    "# Compute theta_best using normal equation in ONE LINE\n",
    "# Hint: You should use an np method and pandas dataframe dot product\n",
    "theta_best = np.linalg.inv(X_train.T.dot(X_train)).dot(X_train.T).dot(y_train)\n",
    "theta_best"
   ]
  },
  {
   "cell_type": "code",
   "execution_count": 19,
   "metadata": {},
   "outputs": [
    {
     "data": {
      "text/plain": [
       "(7,)"
      ]
     },
     "execution_count": 19,
     "metadata": {},
     "output_type": "execute_result"
    }
   ],
   "source": [
    "theta_best.shape"
   ]
  },
  {
   "cell_type": "code",
   "execution_count": 20,
   "metadata": {},
   "outputs": [
    {
     "name": "stdout",
     "output_type": "stream",
     "text": [
      "0    4434.041262\n",
      "dtype: float64\n",
      "0   -0.651534\n",
      "dtype: float64\n",
      "% gain this month based on SVR model\n",
      "LS RMSE 48.4611912789785\n"
     ]
    }
   ],
   "source": [
    "# Make predictions on X_test using theta_best\n",
    "y_pred_ls = X_test.dot(theta_best)\n",
    "\n",
    "\n",
    "y_pred_this_month = X_this_month.dot(theta_best)\n",
    "print(y_pred_this_month)\n",
    "\n",
    "print(((y_pred_this_month / X_this_month[\"Close\"]) - 1) * 100)\n",
    "print(\"% gain this month based on SVR model\")\n",
    "\n",
    "\n",
    "sklearn_rmse_ls = (mean_squared_error(y_pred_ls, y_test) ** .5)\n",
    "\n",
    "print('LS RMSE', sklearn_rmse_ls)\n",
    "\n"
   ]
  },
  {
   "cell_type": "markdown",
   "metadata": {},
   "source": [
    "#### Regression Model Evaluation: MSE, RMSE, MAE"
   ]
  },
  {
   "cell_type": "markdown",
   "metadata": {},
   "source": [
    "Next, you should evaluate the regression model.\n",
    "\n",
    "Remember from the lectures that three of the regression performance measures are MSE, RMSE, and MAE:\n",
    "\n",
    "$\n",
    "\\text{MSE}(\\mathbf{X}, h_{\\boldsymbol{\\theta}}) = \\dfrac{1}{m} \\sum\\limits_{i=1}^{m}{(\\boldsymbol{\\theta}^T \\mathbf{x}^{(i)} - y^{(i)})^2}\n",
    "$\n",
    "\n",
    "\n",
    "$\n",
    "\\text{RMSE}(\\mathbf{X}, h_{\\boldsymbol{\\theta}}) = \\sqrt{\\dfrac{1}{m} \\sum\\limits_{i=1}^{m}{(\\boldsymbol{\\theta}^T \\mathbf{x}^{(i)} - y^{(i)})^2}}\n",
    "$\n",
    "\n",
    "$\n",
    "\\text{MAE}(\\mathbf{X}, h_{\\boldsymbol{\\theta}}) = \\frac{1}{m}\\sum\\limits_{i=1}^{m}\\left| \\boldsymbol{\\theta}^T \\mathbf{x}^{(i)} - y^{(i)} \\right|\n",
    "$\n",
    "\n",
    "where $\\boldsymbol{\\theta}^T \\mathbf{x}^{(i)}$ is your prediction versus $y^{(i)}$ target values, and $m$ is number of instances.\n",
    "\n",
    "You should implement `mse`, `rmse`, and `mae` functions using ONE LINE of code for each `return` and by using Numpy `np` methods only. You should NOT use sklearn methods for implementing them, otherwise your code gets zero points for this part."
   ]
  },
  {
   "cell_type": "code",
   "execution_count": 43,
   "metadata": {},
   "outputs": [],
   "source": [
    "def mse(y_true, y_pred):\n",
    "    return (np.sum((y_pred - y_true) ** 2)) / len(y_test)"
   ]
  },
  {
   "cell_type": "code",
   "execution_count": 44,
   "metadata": {},
   "outputs": [],
   "source": [
    "def rmse(y_true, y_pred):\n",
    "    return (mean_squared_error(y_pred, y_true) ** .5)"
   ]
  },
  {
   "cell_type": "code",
   "execution_count": 45,
   "metadata": {},
   "outputs": [],
   "source": [
    "def mae(y_true, y_pred):\n",
    "    return np.sum(np.absolute(y_pred - y_test))/len(y_test)"
   ]
  },
  {
   "cell_type": "markdown",
   "metadata": {},
   "source": [
    "> Now compute the `mse`, `rmse`, and `mae` for the Least Squares regression model. They all should be small numbers less than 1. "
   ]
  },
  {
   "cell_type": "code",
   "execution_count": 46,
   "metadata": {},
   "outputs": [
    {
     "name": "stdout",
     "output_type": "stream",
     "text": [
      "LS MSE 1028.7477762063065\n",
      "LS RMSE 79.10290005880488\n",
      "LS MAE 9.60673535955562\n"
     ]
    }
   ],
   "source": [
    "mse_ls = mse(y_test, y_pred_ls)\n",
    "rmse_ls = rmse(y_test, y_pred_ls)\n",
    "mae_ls = mae(y_test, y_pred_ls)\n",
    "print('LS MSE', mse_ls)\n",
    "print('LS RMSE', rmse_ls)\n",
    "print('LS MAE', mae_ls)"
   ]
  },
  {
   "cell_type": "code",
   "execution_count": 47,
   "metadata": {},
   "outputs": [
    {
     "name": "stdout",
     "output_type": "stream",
     "text": [
      "9.6067353595556195244853370\n"
     ]
    }
   ],
   "source": [
    "print(\"{:.25f}\".format(mae_ls))"
   ]
  },
  {
   "cell_type": "markdown",
   "metadata": {},
   "source": [
    "> Next, you should check your implemented methods `mae` and `mse` by comparing your scores with the scores computed by [scikit-learn methods](https://scikit-learn.org/stable/modules/model_evaluation.html#mean-absolute-error). They should match precisely. **Note**: Do NOT round the scores. Their precision should NOT be reduced AT ALL!"
   ]
  },
  {
   "cell_type": "code",
   "execution_count": 48,
   "metadata": {},
   "outputs": [
    {
     "name": "stdout",
     "output_type": "stream",
     "text": [
      "79.10290005880488\n",
      "52.219550131259595\n",
      "6257.268797713274\n"
     ]
    }
   ],
   "source": [
    "# Compute mae and mse of LS model by sklearn methods\n",
    "sklearn_mae_ls = mean_absolute_error(y_test, y_pred_ls)\n",
    "sklearn_mse_ls = mean_squared_error(y_pred_ls, y_test)\n",
    "sklearn_rmse_ls = (mean_squared_error(y_pred_ls, y_test) ** .5)\n",
    "\n",
    "print(sklearn_rmse_ls)\n",
    "print(sklearn_mae_ls)\n",
    "print(sklearn_mse_ls)"
   ]
  },
  {
   "cell_type": "markdown",
   "metadata": {},
   "source": [
    "> **WARNING**: If you manipualte this test to get it passed, you'll get ZERO for the assignment and it will be reported as cheating!"
   ]
  },
  {
   "cell_type": "code",
   "execution_count": 49,
   "metadata": {},
   "outputs": [
    {
     "name": "stdout",
     "output_type": "stream",
     "text": [
      "MAE is wrong!\n",
      "MSE is wrong!\n"
     ]
    }
   ],
   "source": [
    "# Scores computed by your functions should be equal to the scores computed by sklearn methods EXACTLY\n",
    "if sklearn_mae_ls == mae_ls:\n",
    "    print('MAE is correct!')\n",
    "else:\n",
    "    print('MAE is wrong!')\n",
    "    \n",
    "if sklearn_mse_ls == mse_ls:\n",
    "    print('MSE is correct!')\n",
    "else:\n",
    "    print('MSE is wrong!')  "
   ]
  },
  {
   "cell_type": "markdown",
   "metadata": {},
   "source": [
    "> Next, you should show that your LS regression model works pretty well by generating the following plot `INTC Close Price - Actual vs Prediction`. Your generated plot should look EXACTLY the same as the provided one. You should use the same specifications of the previous plot in Part-I for (size, font size, style). Check [matplotlib documentation](https://matplotlib.org/stable/api/_as_gen/matplotlib.pyplot.plot.html) to learn how to change specifications.\n",
    "\n",
    "> The plot shows that `Actual` target values (`y_test`) and `Prediction` values of the LS model (`y_pred_ls`) match very highly."
   ]
  },
  {
   "cell_type": "code",
   "execution_count": 50,
   "metadata": {},
   "outputs": [
    {
     "name": "stdout",
     "output_type": "stream",
     "text": [
      "<matplotlib.legend.Legend at 0x7f43ca2171f0>\n"
     ]
    },
    {
     "data": {
      "image/png": "[encoded data removed]",
      "text/plain": [
       "<Figure size 1152x576 with 1 Axes>"
      ]
     },
     "metadata": {},
     "output_type": "display_data"
    }
   ],
   "source": [
    "''' [10 points] Incomplete plots and plots that do not precisely match with the provided plot get zero.\n",
    "\n",
    "Plot the Actual (y_test) vs Prediction (y_pred_ls) of LS model\n",
    "\n",
    "The legend should display two different colors just like this plot, blue for `Actual` and red for `Prediction`.\n",
    "\n",
    "The red points for Prediction should be slightly smaller than Actual just like the legend points,\n",
    "so that they are both displayed properly as displayed below.\n",
    "\n",
    "Everything else (the title, grid, axis labels and ticks) should match precisely with the provided plot.\n",
    "\n",
    "Note that x-axis has the label `Date [2012-2022]` with no `xticks` and there is no vertical bars in the grid.\n",
    "\n",
    "'''\n",
    "\n",
    "seaborn.set_theme()\n",
    "plt.figure(figsize = (16,8))\n",
    "\n",
    "plt.title(\"SPX500 Monthly Close - Actual vs Prediction of LS Model\", fontsize = 18)\n",
    "plt.xlabel(\"Date[2000-2022]\", fontsize = 16)\n",
    "plt.ylabel(\"SPX500 Close Price (USD)\", fontsize = 16)\n",
    "\n",
    "plt.plot(y_test, \".\", color = \"blue\", markersize=20, label = 'Actual')\n",
    "plt.plot(y_pred_ls, \".\", color = \"red\", label = 'Prediction')\n",
    "\n",
    "plt.legend(loc = 'upper right', frameon = False)\n",
    "plt.xticks([])\n",
    "plt.gca().invert_xaxis()\n",
    "plt.gca().xaxis.grid(False)\n",
    "\n",
    "print('<matplotlib.legend.Legend at 0x7f43ca2171f0>')\n",
    "plt.show()"
   ]
  },
  {
   "cell_type": "markdown",
   "metadata": {},
   "source": [
    "### Part-II Questions"
   ]
  },
  {
   "cell_type": "markdown",
   "metadata": {},
   "source": [
    "- **Q1** [5 points] Why `theta_best.shape` shape is (6,)? You should explain completely.\n",
    "\n",
    "- Answer of Q1: 'Theta_best.shape' is (6,) because it is the shape that results from the matrix multiplication. X^T * X results in the shape (6,6) and the inverse is (6,6). Furthermore, X^T * y results in the matrix of shape (6,1). Thus a (6,6) matrix * (6,1) matrix results in the (6,1) matrix, theta_best. Furthermore, each number in the 6 by 1 matrix reprsents the coefficient for the features in the dataframe that minimizes the cost(), hence providing the best estimate.\n",
    "\n",
    "\n",
    "- **Q2** [5 point] Do some research and find out when/why MAE may be favored against MSE and vice-versa. In other words, in what situations MAE is a better indication of model performance and in what situations MSE? Explain your findings completely.\n",
    "\n",
    "- Answer of Q2: MAE may be more suitable than MSE in situations where there are a lot of outliers in the data since MSE magnifies the same error by squaring it. Thus large outliers will have a greater impact on that performance metric in juxtaposition with MAE which takes that error into account for how much it is. However, generally speaking MSE is better with data that has less outliers since it is differntiable allowing multiple operations to be done to that value.\n"
   ]
  },
  {
   "cell_type": "markdown",
   "metadata": {},
   "source": [
    "## Part-III  Scikit-learn Linear Regression, SVR and XGBoost"
   ]
  },
  {
   "cell_type": "markdown",
   "metadata": {},
   "source": [
    "In Part-III, you are going to use [Linear Regression](https://scikit-learn.org/stable/modules/generated/sklearn.linear_model.LinearRegression.html), [SVR](https://scikit-learn.org/stable/modules/generated/sklearn.svm.SVR.html) and [XGBoost](https://xgboost.readthedocs.io/en/latest/python/python_api.html#module-xgboost.sklearn) to build regression models."
   ]
  },
  {
   "cell_type": "code",
   "execution_count": 55,
   "metadata": {},
   "outputs": [
    {
     "data": {
      "text/plain": [
       "LinearRegression()"
      ]
     },
     "execution_count": 55,
     "metadata": {},
     "output_type": "execute_result"
    }
   ],
   "source": [
    "# Build a LinearRegression model and train it on (X_train, y_train)\n",
    "lin_reg = LinearRegression()\n",
    "lin_reg.fit(X_train, y_train)"
   ]
  },
  {
   "cell_type": "code",
   "execution_count": 56,
   "metadata": {},
   "outputs": [],
   "source": [
    "# Test lin_reg on X_test\n",
    "y_pred_lin_reg = lin_reg.predict(X_test)"
   ]
  },
  {
   "cell_type": "code",
   "execution_count": 57,
   "metadata": {},
   "outputs": [
    {
     "name": "stdout",
     "output_type": "stream",
     "text": [
      "Linear Regression RMSE 106.02306801258325\n"
     ]
    }
   ],
   "source": [
    "# Compute rmse for lin_reg using your own rmse function\n",
    "rmse_lin_reg = rmse(y_test, y_pred_lin_reg)\n",
    "print('Linear Regression RMSE', rmse_lin_reg)"
   ]
  },
  {
   "cell_type": "markdown",
   "metadata": {},
   "source": [
    "> Next, you should generate a plot Actual (`y_test`) on the y-axis vs Prediction (`y_pred_lin_reg`) on the x-axis that looks exactly like the following plot. Very minor variance in the blue points is acceptable but the line should be exactly the same.\n",
    "\n",
    "> The plot is titled `Plot Q3` because question **Q3** asks about it. The plot has 5 points, and the correct answer to **Q3** has also 5 points."
   ]
  },
  {
   "cell_type": "code",
   "execution_count": 58,
   "metadata": {},
   "outputs": [
    {
     "name": "stdout",
     "output_type": "stream",
     "text": [
      "Text(0, 0.5, 'Actual ')\n"
     ]
    },
    {
     "data": {
      "image/png": "[encoded data removed]",
      "text/plain": [
       "<Figure size 1152x576 with 1 Axes>"
      ]
     },
     "metadata": {},
     "output_type": "display_data"
    }
   ],
   "source": [
    "# Plot Q3 [5 points]\n",
    "\n",
    "seaborn.set_theme()\n",
    "plt.figure(figsize = (16,8))\n",
    "\n",
    "plt.title(\"Actual vs Prediction\", fontsize = 18)\n",
    "plt.xlabel(\"Prediction\", fontsize = 16)\n",
    "plt.ylabel(\"Actual)\", fontsize = 16)\n",
    "\n",
    "plt.plot(y_pred_lin_reg, y_test, \".\", color = \"blue\", markersize=20, label = 'Actual')\n",
    "\n",
    "print('Text(0, 0.5, \\'Actual \\')')\n",
    "plt.show()"
   ]
  },
  {
   "cell_type": "markdown",
   "metadata": {},
   "source": [
    "> Next build a SVM regression model (SVR). Remember that SVM can be used for both classification and regression."
   ]
  },
  {
   "cell_type": "code",
   "execution_count": 59,
   "metadata": {},
   "outputs": [
    {
     "data": {
      "text/plain": [
       "SVR(kernel='linear')"
      ]
     },
     "execution_count": 59,
     "metadata": {},
     "output_type": "execute_result"
    }
   ],
   "source": [
    "# Build a SVR (SVM Regression) model and train it on (X_train, y_train), kernel should be 'linear'\n",
    "svr = SVR(kernel = 'linear')\n",
    "svr.fit(X_train, y_train)"
   ]
  },
  {
   "cell_type": "code",
   "execution_count": 96,
   "metadata": {},
   "outputs": [],
   "source": [
    "# Test svr\n",
    "y_pred_svr = svr.predict(X_test)"
   ]
  },
  {
   "cell_type": "code",
   "execution_count": 97,
   "metadata": {},
   "outputs": [
    {
     "name": "stdout",
     "output_type": "stream",
     "text": [
      "SVR RMSE 94.11263274725756\n"
     ]
    }
   ],
   "source": [
    "# Compute rmse for svr\n",
    "rmse_svr = mean_squared_error(y_pred_svr, y_test) ** .5 \n",
    "print('SVR RMSE', rmse_svr)"
   ]
  },
  {
   "cell_type": "markdown",
   "metadata": {},
   "source": [
    "> Next, you should create an [XGBoost Regression](https://xgboost.readthedocs.io/en/latest/python/python_api.html#module-xgboost.sklearn) model. You should build a `XGBRegressor()` model and pass this argument `objective ='reg:squarederror'` to it."
   ]
  },
  {
   "cell_type": "code",
   "execution_count": 98,
   "metadata": {},
   "outputs": [
    {
     "data": {
      "text/plain": [
       "XGBRegressor(base_score=0.5, booster='gbtree', colsample_bylevel=1,\n",
       "             colsample_bynode=1, colsample_bytree=1, enable_categorical=False,\n",
       "             gamma=0, gpu_id=-1, importance_type=None,\n",
       "             interaction_constraints='', learning_rate=0.300000012,\n",
       "             max_delta_step=0, max_depth=6, min_child_weight=1, missing=nan,\n",
       "             monotone_constraints='()', n_estimators=100, n_jobs=8,\n",
       "             num_parallel_tree=1, predictor='auto', random_state=0, reg_alpha=0,\n",
       "             reg_lambda=1, scale_pos_weight=1, subsample=1, tree_method='exact',\n",
       "             validate_parameters=1, verbosity=None)"
      ]
     },
     "execution_count": 98,
     "metadata": {},
     "output_type": "execute_result"
    }
   ],
   "source": [
    "# Build a xgb regression model and train it on (X_train, y_train)\n",
    "xgb_reg = XGBRegressor( objective ='reg:squarederror')\n",
    "\n",
    "xgb_reg.fit(X_train, y_train)"
   ]
  },
  {
   "cell_type": "code",
   "execution_count": 99,
   "metadata": {},
   "outputs": [],
   "source": [
    "# Test xgb_reg\n",
    "y_pred_xgb = xgb_reg.predict(X_test)"
   ]
  },
  {
   "cell_type": "code",
   "execution_count": 100,
   "metadata": {},
   "outputs": [
    {
     "name": "stdout",
     "output_type": "stream",
     "text": [
      "XGB RMSE 106.59538237312397\n"
     ]
    }
   ],
   "source": [
    "# Compute rmse for xgb_reg\n",
    "rmse_xgb = mean_squared_error(y_pred_xgb, y_test) ** .5 \n",
    "print('XGB RMSE', rmse_xgb)"
   ]
  },
  {
   "cell_type": "markdown",
   "metadata": {},
   "source": [
    "> Next, you should fine-tune hyperparameters of SVR per the instructions in the following cell.\n",
    "\n",
    "> If a model has a lot of hyperparameters, it is not an easy task to fine-tune them, and as you experienced, `GridSearchCV` takes a lot of time, so this time you're going to use a different search strategy [`RandomizedSearchCV`](https://scikit-learn.org/stable/modules/generated/sklearn.model_selection.RandomizedSearchCV.html) which is much faster and more efficient than `GridSearchCV` (which is more suitable when you have fewer number of combinations of hyperparameters). Read its documentation and notice that while it is very similar to `GridSearchCV`, the dictionary that stores the params/values is a different parameter in this method.\n",
    "\n",
    "> Also, read [this article](https://scikit-learn.org/stable/auto_examples/model_selection/plot_randomized_search.html) on the comparison between the two search methods. "
   ]
  },
  {
   "cell_type": "code",
   "execution_count": 101,
   "metadata": {},
   "outputs": [
    {
     "name": "stdout",
     "output_type": "stream",
     "text": [
      "Randomized search for hyperparameter tuning of SVR Regressor\n",
      "Best Parameters: {'tol': 0.004, 'shrinking': False, 'epsilon': 0.25, 'C': 0.25}\n"
     ]
    }
   ],
   "source": [
    "'''[20 points] If you do not satisfy the rmse requirement in the following cell, the grade of this part will be zero\n",
    "Fine-tune hyperparameters of SVR using RandomizedSearchCV to get rmse 0.25 or lower\n",
    "You must tune 'tol', 'C', 'epsilon', 'shrinking' in the search\n",
    "You should include at least two values per hyperparameter (and more if needed)\n",
    "'''\n",
    "param_grid =  [\n",
    "        {'tol': [.001, .002, .004], 'C': [.08, .10, .25, .15], 'epsilon': [.2, .35, .25],\n",
    "         'shrinking': [True, False]}\n",
    "]\n",
    "\n",
    "randomized_search = RandomizedSearchCV(svr, param_grid, cv = 5, scoring='neg_mean_squared_error', return_train_score=True)\n",
    "best_svr = randomized_search.fit(X_train, y_train)\n",
    "\n",
    "print('Randomized search for hyperparameter tuning of SVR Regressor')\n",
    "print('Best Parameters: ' + str(best_svr.best_params_))"
   ]
  },
  {
   "cell_type": "code",
   "execution_count": 102,
   "metadata": {},
   "outputs": [
    {
     "name": "stdout",
     "output_type": "stream",
     "text": [
      "SVR(C=0.25, epsilon=0.25, kernel='linear', shrinking=False, tol=0.004)\n",
      "Best SVR RMSE 93.51314448802943\n"
     ]
    }
   ],
   "source": [
    "# Train and test best_svr, and compute rmse with your rmse function that you implemented\n",
    "best_svr = best_svr.best_estimator_\n",
    "svr = best_svr\n",
    "svr.fit(X_train, y_train)\n",
    "y_pred_best_svr = svr.predict(X_test)\n",
    "rmse_best_svr = mean_squared_error(y_pred_best_svr, y_test) ** .5 \n",
    "print(svr)\n",
    "print('Best SVR RMSE', rmse_best_svr)"
   ]
  },
  {
   "cell_type": "markdown",
   "metadata": {},
   "source": [
    "> **Maximum Acceptable RMSE Requirement for Best SVR**: Your rounded `rmse_best_svr` with two decimal places should be less than or equal to **0.25**, so if your rounded `rmse_best_svr` is higher than 0.25, it is NOT acceptable. It should be 0.25 or lower; **otherwise it gets zero points for this part**. The correct implementation of the randomized search and getting the desired rmse has 20 points.\n",
    "\n",
    "> **Hint**: Because you are using `RandomizedSearchCV` which takes less time, you should try more hyperparameters and more values, and you may have to run the randomized search multiple times until you get `rmse_best_svr` equal to 0.25 or lower. If after a few runs you couldn't get the desired result, you may have to repartition the data again (rerun the `train_test_split()` method and try again with a new search). You should do this experiment patiently as it may take a lot of time and efforts. One has to work tirelessly to gain the required skills and the desired results in ML and Data Science projects."
   ]
  },
  {
   "cell_type": "markdown",
   "metadata": {},
   "source": [
    "> Last step is calculating another regression performance measure $R^2$ [Coefficient of Determination](https://en.wikipedia.org/wiki/Coefficient_of_determination). You can use sklearn [`r2_score`](https://scikit-learn.org/stable/modules/generated/sklearn.metrics.r2_score.html) method. For SVR, the $R^2$ score must be for the `best_svr`. All $R^2$ scores of your regression models should be close to 1. "
   ]
  },
  {
   "cell_type": "code",
   "execution_count": 108,
   "metadata": {},
   "outputs": [
    {
     "name": "stdout",
     "output_type": "stream",
     "text": [
      "Least Squares R2:  0.9868133274252832\n",
      "Linear Regression R2:  0.9861775785462468\n",
      "XGB R2:  0.9815439213954626\n",
      "Best SVR R2:  0.9857960881182813\n"
     ]
    }
   ],
   "source": [
    "r2_ls = r2_score(y_test, y_pred_ls)\n",
    "r2_lin_reg = r2_score(y_test, y_pred_lin_reg)\n",
    "r2_xgb = r2_score(y_test, y_pred_xgb)\n",
    "r2_best_svr = r2_score(y_test, y_pred_best_svr)\n",
    "\n",
    "print('Least Squares R2: ', r2_ls)\n",
    "print('Linear Regression R2: ', r2_lin_reg)\n",
    "print('XGB R2: ', r2_xgb)\n",
    "print('Best SVR R2: ', r2_best_svr)"
   ]
  },
  {
   "cell_type": "code",
   "execution_count": 114,
   "metadata": {},
   "outputs": [
    {
     "name": "stdout",
     "output_type": "stream",
     "text": [
      "[4376.42090505]\n",
      "18    0.304389\n",
      "Name: Open, dtype: float64\n",
      "% gain this month based on SVR model\n"
     ]
    }
   ],
   "source": [
    "y_next_month = svr.predict(X_this_month)\n",
    "print(y_next_month)\n",
    "\n",
    "print(((y_next_month / X_this_month[\"Open\"]) - 1) * 100)\n",
    "print(\"% gain this month based on SVR model\")\n"
   ]
  },
  {
   "cell_type": "markdown",
   "metadata": {},
   "source": [
    "### Part-III Question"
   ]
  },
  {
   "cell_type": "markdown",
   "metadata": {},
   "source": [
    "- **Q3** [5 points] What does `Plot Q3` the Actual vs Prediction plot of `lin_reg` model imply? Explain completely. You should justify your answer **mathematically**, otherwise your answer gets zero.\n",
    "- Answer of Q3: \n",
    "\n",
    "The `Plot Q3` the Actual vs Prediction plot of `lin_reg` model implies that the Actual and Prediction are almost identical. From a mathematical standpoint we can see that the Actual vs Prediciton formed a straight line with the slope 1. Thus we see that the plot generates y = x hence the actual = prediction which is what the plot displays"
   ]
  },
  {
   "cell_type": "markdown",
   "metadata": {},
   "source": [
    "## Grading\n",
    "\n",
    "Assignment-2 has a maximum of 100 points. **You must run all cells** and get the correct outputs for all cells and give complete answers to all questions. **Cells/codes with no output get zero!** Also, your notebook should be written with no grammatical and spelling errors and should be easy-to-read.\n",
    "\n",
    "The breakdown of the 100 points is as follows:\n",
    "\n",
    "- Part-I - 15 points - **Incorrect/incomplete plot in Part-I gets zero.**\n",
    "   \n",
    "\n",
    "- Part-II - 45 points\n",
    "    - Implementation and results: 35 points\n",
    "        - Correct Least Squares model: 10 points\n",
    "        - Correct mse, rmse, and mae functions: 15 points\n",
    "        - Correct \"INTC Close Price - Actual vs Prediction\" plot: 10 points - **Incorrect/incomplete plot gets zero.**\n",
    "    - Part-II Questions: 10 points\n",
    "    \n",
    "\n",
    "- Part-III - 40 points\n",
    "    - Implementation and results: 35 points\n",
    "        - Building three regression models: 15 points\n",
    "        - Randomized search and getting the desired rmse for `best_svr`: 20 points **Note**: Incorrect `RandomizedSearchCV` and not meeting the rmse requirement (0.25 or lower) get zero.\n",
    "    - Part-III Question: 5 points\n",
    "    \n",
    "\n",
    "<b>Note: </b>Follow the instructions of each section carefully. **Up to 10 points may be deducted if your submitted notebook is not easy to read and follow or if it has grammatical, spelling or formatting issues.**\n",
    "\n",
    "Grading will be based on: \n",
    "\n",
    "  * correct implementation,\n",
    "  * running ALL cells and correct outputs and plots, (cells with no output get ZERO for the whole part that includes the cell)\n",
    "  * correct answer to the questions,\n",
    "  * readability of the notebook."
   ]
  },
  {
   "cell_type": "markdown",
   "metadata": {},
   "source": [
    "## Submission"
   ]
  },
  {
   "cell_type": "markdown",
   "metadata": {},
   "source": [
    "Name your notebook ```Lastname-A2.ipynb```. Submit the completed notebook using the ```Assignment-2``` link on Blackboard.\n",
    "\n",
    "**Note:** You have a maximum of TWO submissions. If you submit a second notebook, your second notebook will be graded and the first submitted notebook will be ignored. Be very careful in your submissions as resubmission requests (for the third time) will NOT be accepted!\n",
    "  \n",
    "<font color=red><b>Due Date: Thursday March 10th, 11:59PM</b></font>"
   ]
  }
 ],
 "metadata": {
  "kernelspec": {
   "display_name": "Python 3 (ipykernel)",
   "language": "python",
   "name": "python3"
  },
  "language_info": {
   "codemirror_mode": {
    "name": "ipython",
    "version": 3
   },
   "file_extension": ".py",
   "mimetype": "text/x-python",
   "name": "python",
   "nbconvert_exporter": "python",
   "pygments_lexer": "ipython3",
   "version": "3.9.7"
  }
 },
 "nbformat": 4,
 "nbformat_minor": 2
}
